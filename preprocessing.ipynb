{
 "cells": [
  {
   "cell_type": "code",
   "execution_count": null,
   "metadata": {},
   "outputs": [],
   "source": [
    "import dataset_tools as dtools\n",
    "import os \n",
    "import json"
   ]
  },
  {
   "cell_type": "code",
   "execution_count": null,
   "metadata": {},
   "outputs": [],
   "source": [
    "dtools.download(dataset='Cocoa Diseases', dst_dir='~/dataset-ninja/')"
   ]
  },
  {
   "cell_type": "code",
   "execution_count": null,
   "metadata": {},
   "outputs": [],
   "source": [
    "annot = \"GoodLabels\"\n",
    "def jsonToTxt(pathToAnnots):\n",
    "    os.makedirs(annot, exist_ok=True)\n",
    "    for n in os.listdir(pathToAnnots):\n",
    "        with open(os.path.join(pathToAnnots, n)) as json_file:\n",
    "            with open(os.path.join(annot, n[:-5] + \".txt\"), \"a\") as txt_file:\n",
    "                print(n)\n",
    "                data = json.load(json_file)\n",
    "                for nr in data[\"objects\"]:\n",
    "                    idNum = nr[\"classId\"]\n",
    "                    points = nr[\"points\"][\"exterior\"]\n",
    "                    # write txt file\n",
    "                    txt_file.write(f\"{idNum} {points[0][0]} {points[0][1]} {points[1][0]} {points[1][1]}\\n\")\n",
    "jsonToTxt(\"dataset-ninja/cocoa-diseases/all/ann/\")"
   ]
  }
 ],
 "metadata": {
  "kernelspec": {
   "display_name": "Python 3.7.10",
   "language": "python",
   "name": "py3.7.10"
  }
 },
 "nbformat": 4,
 "nbformat_minor": 2
}
