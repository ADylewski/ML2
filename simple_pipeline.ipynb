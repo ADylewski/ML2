{
 "cells": [
  {
   "cell_type": "code",
   "execution_count": 4,
   "id": "increased-recorder",
   "metadata": {
    "execution": {
     "iopub.execute_input": "2021-05-02T02:19:30.070151Z",
     "iopub.status.busy": "2021-05-02T02:19:30.069382Z",
     "iopub.status.idle": "2021-05-02T02:19:37.136067Z",
     "shell.execute_reply": "2021-05-02T02:19:37.136615Z"
    },
    "papermill": {
     "duration": 7.089889,
     "end_time": "2021-05-02T02:19:37.136940",
     "exception": false,
     "start_time": "2021-05-02T02:19:30.047051",
     "status": "completed"
    },
    "tags": []
   },
   "outputs": [],
   "source": [
    "import numpy as np\n",
    "import pandas as pd\n",
    "import cv2\n",
    "import matplotlib.pyplot as plt\n",
    "import os\n",
    "from ultralytics import YOLO\n",
    "import torch\n",
    "import torch.nn.utils.prune as prune\n",
    "import torch.nn.functional as F\n",
    "import torch.nn as nn\n",
    "import os\n",
    "import json\n"
   ]
  },
  {
   "cell_type": "markdown",
   "id": "0622b6c8",
   "metadata": {},
   "source": [
    "# Cuda check and visualize data"
   ]
  },
  {
   "cell_type": "code",
   "execution_count": 18,
   "id": "2d1ca14b",
   "metadata": {},
   "outputs": [
    {
     "name": "stdout",
     "output_type": "stream",
     "text": [
      "PyTorch CUDA version: 12.4\n",
      "CUDA available: True\n",
      "CUDA devices: 1\n",
      "CUDA device name: NVIDIA GeForce GTX 1650\n"
     ]
    }
   ],
   "source": [
    "print(\"PyTorch CUDA version:\", torch.version.cuda)\n",
    "print(\"CUDA available:\", torch.cuda.is_available())\n",
    "print(\"CUDA devices:\", torch.cuda.device_count())\n",
    "print(\"CUDA device name:\", torch.cuda.get_device_name(0) if torch.cuda.is_available() else \"No device\")"
   ]
  },
  {
   "cell_type": "code",
   "execution_count": 19,
   "id": "30ef4fa7",
   "metadata": {},
   "outputs": [
    {
     "data": {
      "text/plain": [
       "<Figure size 1000x1000 with 1 Axes>"
      ]
     },
     "metadata": {},
     "output_type": "display_data"
    }
   ],
   "source": [
    "def visualize_image_with_bboxes(image_path, annotation_path):\n",
    "    image = cv2.imread(image_path)\n",
    "    image = cv2.cvtColor(image, cv2.COLOR_BGR2RGB)\n",
    "\n",
    "    with open(annotation_path, 'r') as file:\n",
    "        annotations = file.readlines()\n",
    "\n",
    "    height, width, _ = image.shape\n",
    "\n",
    "    for annotation in annotations:\n",
    "        values = annotation.strip().split()\n",
    "        class_id = int(values[0])\n",
    "        cx, cy, w, h = map(float, values[1:])\n",
    "\n",
    "        x_min = int((cx - w / 2) * width)\n",
    "        y_min = int((cy - h / 2) * height)\n",
    "        x_max = int((cx + w / 2) * width)\n",
    "        y_max = int((cy + h / 2) * height)\n",
    "\n",
    "        color = (255, 255, 255)\n",
    "        if class_id == 0:\n",
    "            color = (255, 0, 0)\n",
    "        elif class_id == 1:\n",
    "            color = (255, 255, 0)\n",
    "\n",
    "        cv2.rectangle(image, (x_min, y_min), (x_max, y_max), color, 12)\n",
    "\n",
    "    plt.figure(figsize=(10, 10))\n",
    "    plt.imshow(image)\n",
    "    plt.axis('off')\n",
    "    plt.show()\n",
    "\n",
    "visualize_image_with_bboxes(\"datasets/cocoa_diseases/images/train/Fito1.jpg\", \"datasets/cocoa_diseases/labels/train/Fito1.txt\")"
   ]
  },
  {
   "cell_type": "markdown",
   "id": "7cd060d9",
   "metadata": {},
   "source": [
    "# Regular YOLO"
   ]
  },
  {
   "cell_type": "code",
   "execution_count": null,
   "id": "572d2707",
   "metadata": {},
   "outputs": [],
   "source": [
    "model = YOLO(\"yolov11x\")\n",
    "\n",
    "train_results = model.train(\n",
    "    data=\"datasets/cocoa_diseases/cocoa_dataset.yaml\",\n",
    "    epochs=100,\n",
    "    project=\"models/yolo11\",\n",
    "    imgsz=640,\n",
    "    batch=4,  \n",
    "    device=\"cuda\", \n",
    "    workers=5  \n",
    ")\n",
    "\n",
    "model.save(\"models/model_files/yolo11_cocoa_trained.pt\")"
   ]
  },
  {
   "cell_type": "markdown",
   "id": "bdc9d06d",
   "metadata": {},
   "source": [
    "# Pruning setup "
   ]
  },
  {
   "cell_type": "code",
   "execution_count": 5,
   "id": "6919a01a",
   "metadata": {},
   "outputs": [],
   "source": [
    "def prune_model(pytorch_model, amount):\n",
    "    for name, module in pytorch_model.named_modules():\n",
    "        if isinstance(module, torch.nn.Conv2d):\n",
    "            prune.l1_unstructured(module, name=\"weight\", amount=amount)\n",
    "            prune.remove(module, \"weight\")\n",
    "            module.weight = nn.Parameter(module.weight.to_sparse())\n",
    "    return pytorch_model"
   ]
  },
  {
   "cell_type": "markdown",
   "id": "d80ced9d",
   "metadata": {},
   "source": [
    "# Pre-train pruning YOLO"
   ]
  },
  {
   "cell_type": "markdown",
   "id": "7ca71df7",
   "metadata": {},
   "source": [
    "## No coco retrain "
   ]
  },
  {
   "cell_type": "code",
   "execution_count": null,
   "id": "d2d724f3",
   "metadata": {},
   "outputs": [],
   "source": [
    "model = YOLO(\"yolo11x.pt\")\n",
    "model.model = prune_model(model.model, 0.05)\n",
    "\n",
    "train_results = model.train(\n",
    "    data=\"datasets/cocoa_diseases/cocoa_dataset.yaml\",\n",
    "    epochs=100,\n",
    "    project=\"models/yolo11_pruned_no_retrain\",\n",
    "    imgsz=640,\n",
    "    batch=4,  \n",
    "    device=\"cuda\", \n",
    "    workers=5  \n",
    ")\n",
    "\n",
    "model.save(\"models/model_files/yolo11_pruned_no_retrain.pt\")"
   ]
  },
  {
   "cell_type": "markdown",
   "id": "fb1da012",
   "metadata": {},
   "source": [
    "## Retrain on coco"
   ]
  },
  {
   "cell_type": "code",
   "execution_count": null,
   "id": "88aeef04",
   "metadata": {},
   "outputs": [],
   "source": [
    "model = YOLO(\"yolo11x.pt\")\n",
    "model.model = prune_model(model.model, 0.05)\n",
    "\n",
    "# Retrain on coco8 before training on cocoa dataset\n",
    "model.train(\n",
    "    data=\"datasets/coco8/coco8_dataset.yaml\",\n",
    "    epochs=5,                     \n",
    "    imgsz=640,\n",
    "    batch=4,\n",
    "    device=\"cuda\",\n",
    "    workers=1             \n",
    ")\n",
    "\n",
    "train_results = model.train(\n",
    "    data=\"datasets/cocoa_diseases/cocoa_dataset.yaml\",\n",
    "    epochs=100,\n",
    "    project=\"models/yolo11_pruned_retrain\",\n",
    "    imgsz=640,\n",
    "    batch=4,  \n",
    "    device=\"cuda\", \n",
    "    workers=5  \n",
    ")\n",
    "\n",
    "model.save(\"models/model_files/yolo11_pruned_retrain.pt\")"
   ]
  },
  {
   "cell_type": "markdown",
   "id": "4fe8075e",
   "metadata": {},
   "source": [
    "# Post-train pruning YOLO"
   ]
  },
  {
   "cell_type": "code",
   "execution_count": null,
   "id": "5d6533d4",
   "metadata": {},
   "outputs": [],
   "source": [
    "model = YOLO(\"models/model_files/yolo11_cocoa_trained.pt\")\n",
    "model.model = prune_model(model.model, 0.05)\n",
    "\n",
    "train_results = model.train(\n",
    "    data=\"datasets/cocoa_diseases/cocoa_dataset.yaml\",\n",
    "    epochs=10,\n",
    "    patience=5,\n",
    "    project=\"models/yolo11_post_pruned_retrain\",\n",
    "    imgsz=640,\n",
    "    batch=4,  \n",
    "    device=\"cuda\", \n",
    "    workers=5  \n",
    ")\n",
    "\n",
    "model.save(\"models/model_files/yolo11_post_pruned_retrain.pt\")"
   ]
  },
  {
   "cell_type": "markdown",
   "id": "bde0d55d",
   "metadata": {},
   "source": [
    "# Testing"
   ]
  },
  {
   "cell_type": "code",
   "execution_count": 28,
   "id": "cd39ccf4",
   "metadata": {},
   "outputs": [
    {
     "name": "stdout",
     "output_type": "stream",
     "text": [
      "Ultralytics 8.3.58  Python-3.11.2 torch-2.5.1+cu124 CUDA:0 (NVIDIA GeForce GTX 1650, 4096MiB)\n",
      "YOLO11x summary (fused): 464 layers, 56,830,489 parameters, 0 gradients, 194.4 GFLOPs\n"
     ]
    },
    {
     "name": "stderr",
     "output_type": "stream",
     "text": [
      "\u001b[34m\u001b[1mval: \u001b[0mScanning C:\\Users\\danie\\Documents\\Programming\\Uni\\ML2\\datasets\\cocoa_diseases\\labels\\val.cache... 62 images, 0 backgrounds, 0 corrupt: 100%|██████████| 62/62 [00:00<?, ?it/s]\n",
      "                 Class     Images  Instances      Box(P          R      mAP50  mAP50-95): 100%|██████████| 4/4 [00:20<00:00,  5.05s/it]\n"
     ]
    },
    {
     "name": "stdout",
     "output_type": "stream",
     "text": [
      "                   all         62        289      0.725       0.65      0.731      0.506\n",
      "          phytophthora         30         39      0.747      0.564      0.675      0.498\n",
      "               monilia         23         30      0.652      0.767      0.756      0.562\n",
      "               healthy         52        220      0.777      0.618       0.76      0.457\n",
      "Speed: 2.2ms preprocess, 78.6ms inference, 0.0ms loss, 4.4ms postprocess per image\n",
      "Results saved to \u001b[1mruns\\detect\\val6\u001b[0m\n",
      "Ultralytics 8.3.58  Python-3.11.2 torch-2.5.1+cu124 CUDA:0 (NVIDIA GeForce GTX 1650, 4096MiB)\n"
     ]
    },
    {
     "name": "stderr",
     "output_type": "stream",
     "text": [
      "\u001b[34m\u001b[1mval: \u001b[0mScanning C:\\Users\\danie\\Documents\\Programming\\Uni\\ML2\\datasets\\cocoa_diseases\\labels\\val.cache... 62 images, 0 backgrounds, 0 corrupt: 100%|██████████| 62/62 [00:00<?, ?it/s]\n",
      "                 Class     Images  Instances      Box(P          R      mAP50  mAP50-95): 100%|██████████| 4/4 [00:13<00:00,  3.33s/it]\n"
     ]
    },
    {
     "name": "stdout",
     "output_type": "stream",
     "text": [
      "                   all         62        289      0.648       0.59      0.628      0.418\n",
      "          phytophthora         30         39      0.594      0.513      0.586      0.423\n",
      "               monilia         23         30      0.617        0.6      0.567      0.402\n",
      "               healthy         52        220      0.731      0.656      0.733      0.427\n",
      "Speed: 2.9ms preprocess, 11.4ms inference, 0.0ms loss, 3.4ms postprocess per image\n",
      "Results saved to \u001b[1mruns\\detect\\val7\u001b[0m\n",
      "Ultralytics 8.3.58  Python-3.11.2 torch-2.5.1+cu124 CUDA:0 (NVIDIA GeForce GTX 1650, 4096MiB)\n"
     ]
    },
    {
     "name": "stderr",
     "output_type": "stream",
     "text": [
      "\u001b[34m\u001b[1mval: \u001b[0mScanning C:\\Users\\danie\\Documents\\Programming\\Uni\\ML2\\datasets\\cocoa_diseases\\labels\\val.cache... 62 images, 0 backgrounds, 0 corrupt: 100%|██████████| 62/62 [00:00<?, ?it/s]\n",
      "                 Class     Images  Instances      Box(P          R      mAP50  mAP50-95): 100%|██████████| 4/4 [00:21<00:00,  5.41s/it]\n"
     ]
    },
    {
     "name": "stdout",
     "output_type": "stream",
     "text": [
      "                   all         62        289      0.561      0.547      0.538      0.357\n",
      "          phytophthora         30         39       0.42      0.513      0.421      0.297\n",
      "               monilia         23         30      0.562      0.429      0.441      0.331\n",
      "               healthy         52        220      0.701        0.7      0.752      0.442\n",
      "Speed: 3.4ms preprocess, 10.4ms inference, 0.0ms loss, 11.0ms postprocess per image\n",
      "Results saved to \u001b[1mruns\\detect\\val8\u001b[0m\n"
     ]
    }
   ],
   "source": [
    "model_results = {}\n",
    "\n",
    "for filename in os.listdir(\"models/model_files\"):\n",
    "    model = YOLO(f\"models/model_files/{filename}\")\n",
    "    results = model.val(data=\"datasets/cocoa_diseases/cocoa_dataset.yaml\")\n",
    "    \n",
    "    metrics = {\n",
    "        \"mAP50\": results.box.map50,                \n",
    "        \"mAP50-95\":results.box.map,   \n",
    "        \"inference_time (ms)\": results.speed[\"inference\"]  \n",
    "    }\n",
    "    \n",
    "    model_results[os.path.splitext(filename)[0]] = metrics\n",
    "\n",
    "output_path = \"model_validation_results.json\"\n",
    "with open(output_path, \"w\") as f:\n",
    "    json.dump(model_results, f, indent=4)"
   ]
  },
  {
   "cell_type": "code",
   "execution_count": 6,
   "id": "85201988",
   "metadata": {},
   "outputs": [
    {
     "name": "stdout",
     "output_type": "stream",
     "text": [
      "\n",
      "0: 640x480 2 healthys, 77.7ms\n",
      "1: 640x480 2 phytophthoras, 1 monilia, 3 healthys, 77.7ms\n",
      "2: 640x480 1 phytophthora, 5 monilias, 3 healthys, 77.7ms\n",
      "Speed: 0.0ms preprocess, 77.7ms inference, 0.0ms postprocess per image at shape (1, 3, 640, 480)\n"
     ]
    }
   ],
   "source": [
    "# directory = \"datasets/cocoa_diseases/images/val/\"\n",
    "\n",
    "# model = YOLO(\"models/model_files/yolo11.pt\")\n",
    "# results = model.predict([directory+\"Sana25.jpg\",directory+\"Fito7.jpg\",directory+\"Monilia31.jpg\"])\n",
    "\n",
    "# for result in results:\n",
    "#     result.show()"
   ]
  },
  {
   "cell_type": "code",
   "execution_count": 11,
   "id": "55383b20",
   "metadata": {},
   "outputs": [
    {
     "name": "stdout",
     "output_type": "stream",
     "text": [
      "\n",
      "0: 640x480 1 phytophthora, 3 monilias, 4 healthys, 67.6ms\n",
      "Speed: 5.5ms preprocess, 67.6ms inference, 2.1ms postprocess per image at shape (1, 3, 640, 480)\n"
     ]
    }
   ],
   "source": [
    "# directory = \"datasets/cocoa_diseases/images/val/\"\n",
    "\n",
    "# model = YOLO(\"models/model_files/yolo11_post_pruned_retrain.pt\")\n",
    "# # results = model.predict([directory+\"Sana25.jpg\",directory+\"Fito7.jpg\",directory+\"Monilia31.jpg\"])\n",
    "# results = model.predict([directory+\"Monilia31.jpg\"])\n",
    "\n",
    "# for result in results:\n",
    "#     result.save(\"normal_post_pruned_retrained.png\")\n",
    "#     result.show()\n"
   ]
  }
 ],
 "metadata": {
  "kernelspec": {
   "display_name": "Python 3",
   "language": "python",
   "name": "python3"
  },
  "language_info": {
   "codemirror_mode": {
    "name": "ipython",
    "version": 3
   },
   "file_extension": ".py",
   "mimetype": "text/x-python",
   "name": "python",
   "nbconvert_exporter": "python",
   "pygments_lexer": "ipython3",
   "version": "3.11.2"
  },
  "papermill": {
   "default_parameters": {},
   "duration": 149.908084,
   "end_time": "2021-05-02T02:21:51.524817",
   "environment_variables": {},
   "exception": null,
   "input_path": "__notebook__.ipynb",
   "output_path": "__notebook__.ipynb",
   "parameters": {},
   "start_time": "2021-05-02T02:19:21.616733",
   "version": "2.3.3"
  }
 },
 "nbformat": 4,
 "nbformat_minor": 5
}
