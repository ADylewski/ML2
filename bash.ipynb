{
 "cells": [
  {
   "cell_type": "code",
   "execution_count": 1,
   "id": "1cd44765-db95-4e56-8498-84b9b964221e",
   "metadata": {
    "tags": []
   },
   "outputs": [
    {
     "name": "stdout",
     "output_type": "stream",
     "text": [
      "nvcc: NVIDIA (R) Cuda compiler driver\n",
      "Copyright (c) 2005-2022 NVIDIA Corporation\n",
      "Built on Tue_Mar__8_18:18:20_PST_2022\n",
      "Cuda compilation tools, release 11.6, V11.6.124\n",
      "Build cuda_11.6.r11.6/compiler.31057947_0\n"
     ]
    }
   ],
   "source": [
    "nvcc --version\n"
   ]
  },
  {
   "cell_type": "code",
   "execution_count": 1,
   "id": "58229973-41de-4f02-a123-6821e3dfac64",
   "metadata": {
    "tags": []
   },
   "outputs": [
    {
     "name": "stdout",
     "output_type": "stream",
     "text": [
      "Thu Dec 19 09:07:27 2024       \n",
      "+-----------------------------------------------------------------------------------------+\n",
      "| NVIDIA-SMI 555.42.06              Driver Version: 555.42.06      CUDA Version: 12.5     |\n",
      "|-----------------------------------------+------------------------+----------------------+\n",
      "| GPU  Name                 Persistence-M | Bus-Id          Disp.A | Volatile Uncorr. ECC |\n",
      "| Fan  Temp   Perf          Pwr:Usage/Cap |           Memory-Usage | GPU-Util  Compute M. |\n",
      "|                                         |                        |               MIG M. |\n",
      "|=========================================+========================+======================|\n",
      "|   0  NVIDIA A16                     Off |   00000000:1B:00.0 Off |                    0 |\n",
      "|  0%   39C    P0             29W /   62W |    2148MiB /  15356MiB |     91%      Default |\n",
      "|                                         |                        |                  N/A |\n",
      "+-----------------------------------------+------------------------+----------------------+\n",
      "|   1  NVIDIA A16                     Off |   00000000:1C:00.0 Off |                    0 |\n",
      "|  0%   40C    P0             29W /   62W |     273MiB /  15356MiB |     91%      Default |\n",
      "|                                         |                        |                  N/A |\n",
      "+-----------------------------------------+------------------------+----------------------+\n",
      "|   2  NVIDIA A16                     Off |   00000000:1D:00.0 Off |                    0 |\n",
      "|  0%   36C    P0             29W /   62W |     273MiB /  15356MiB |     91%      Default |\n",
      "|                                         |                        |                  N/A |\n",
      "+-----------------------------------------+------------------------+----------------------+\n",
      "|   3  NVIDIA A16                     Off |   00000000:1E:00.0 Off |                    0 |\n",
      "|  0%   34C    P0             28W /   62W |     269MiB /  15356MiB |     90%      Default |\n",
      "|                                         |                        |                  N/A |\n",
      "+-----------------------------------------+------------------------+----------------------+\n",
      "|   4  NVIDIA A16                     Off |   00000000:CE:00.0 Off |                    0 |\n",
      "|  0%   38C    P0             28W /   62W |     253MiB /  15356MiB |     80%      Default |\n",
      "|                                         |                        |                  N/A |\n",
      "+-----------------------------------------+------------------------+----------------------+\n",
      "|   5  NVIDIA A16                     Off |   00000000:CF:00.0 Off |                    0 |\n",
      "|  0%   39C    P0             28W /   62W |     273MiB /  15356MiB |     80%      Default |\n",
      "|                                         |                        |                  N/A |\n",
      "+-----------------------------------------+------------------------+----------------------+\n",
      "|   6  NVIDIA A16                     Off |   00000000:D0:00.0 Off |                    0 |\n",
      "|  0%   35C    P0             28W /   62W |     273MiB /  15356MiB |     92%      Default |\n",
      "|                                         |                        |                  N/A |\n",
      "+-----------------------------------------+------------------------+----------------------+\n",
      "|   7  NVIDIA A16                     Off |   00000000:D1:00.0 Off |                    0 |\n",
      "|  0%   33C    P0             28W /   62W |     269MiB /  15356MiB |     92%      Default |\n",
      "|                                         |                        |                  N/A |\n",
      "+-----------------------------------------+------------------------+----------------------+\n",
      "                                                                                         \n",
      "+-----------------------------------------------------------------------------------------+\n",
      "| Processes:                                                                              |\n",
      "|  GPU   GI   CI        PID   Type   Process name                              GPU Memory |\n",
      "|        ID   ID                                                               Usage      |\n",
      "|=========================================================================================|\n",
      "+-----------------------------------------------------------------------------------------+\n"
     ]
    }
   ],
   "source": [
    "nvidia-smi"
   ]
  },
  {
   "cell_type": "code",
   "execution_count": 1,
   "id": "43df8fc7-d96f-4372-aa8a-a009b0622f4d",
   "metadata": {
    "tags": []
   },
   "outputs": [],
   "source": [
    "export CUDA_LAUNCH_BLOCKING=1"
   ]
  },
  {
   "cell_type": "code",
   "execution_count": 2,
   "id": "0cd59a36-63ba-4d3f-af94-083fc6c70f5e",
   "metadata": {
    "tags": []
   },
   "outputs": [
    {
     "name": "stdout",
     "output_type": "stream",
     "text": [
      "Filesystem                                                                                 Size  Used Avail Use% Mounted on\n",
      "overlay                                                                                    2.2T  357G  1.7T  18% /\n",
      "tmpfs                                                                                       64M     0   64M   0% /dev\n",
      "shm                                                                                         64M     0   64M   0% /dev/shm\n",
      "/dev/mapper/vg_os-lv_root                                                                  9.3G  5.5G  3.4G  62% /usr/bin/nvidia-smi\n",
      "netappclnqsein_nfs_lif01.utsp.utwente.nl:/ICT_Jupyter/software                              29T   22T  7.4T  75% /software\n",
      "netappclnqsein_nfs_lif01.utsp.utwente.nl:/ICT_Jupyter/home/r.c.stanciu@student.utwente.nl   29T   22T  7.4T  75% /home/jovyan\n",
      "netappclnqsein_nfs_lif01.utsp.utwente.nl:/ICT_Jupyter/data/public                           29T   22T  7.4T  75% /data/public\n",
      "netappclnqsein_nfs_lif01.utsp.utwente.nl:/ICT_Jupyter/data/shared                           29T   22T  7.4T  75% /data/shared\n",
      "/dev/mapper/vg_appl-lv_docker                                                              2.2T  357G  1.7T  18% /etc/hosts\n",
      "tmpfs                                                                                      126G   12K  126G   1% /proc/driver/nvidia\n",
      "udev                                                                                       126G     0  126G   0% /dev/nvidia0\n",
      "tmpfs                                                                                      126G     0  126G   0% /proc/acpi\n",
      "tmpfs                                                                                      126G     0  126G   0% /proc/scsi\n",
      "tmpfs                                                                                      126G     0  126G   0% /sys/firmware\n",
      "tmpfs                                                                                      126G     0  126G   0% /sys/devices/virtual/powercap\n"
     ]
    }
   ],
   "source": [
    "df -h"
   ]
  },
  {
   "cell_type": "code",
   "execution_count": 1,
   "id": "b0db76b9-78b2-458b-96f9-ccbe7cd98ab1",
   "metadata": {
    "tags": []
   },
   "outputs": [
    {
     "name": "stdout",
     "output_type": "stream",
     "text": [
      "Filesystem      Size  Used Avail Use% Mounted on\n",
      "shm              64M   28M   36M  44% /dev/shm\n"
     ]
    }
   ],
   "source": [
    "df -h /dev/shm\n"
   ]
  },
  {
   "cell_type": "code",
   "execution_count": 3,
   "id": "4da8f26d-5705-4d17-ba8f-672ae0a449e5",
   "metadata": {
    "tags": []
   },
   "outputs": [],
   "source": [
    "export CUDA_LAUNCH_BLOCKING=1\n"
   ]
  }
 ],
 "metadata": {
  "kernelspec": {
   "display_name": "Bash",
   "language": "bash",
   "name": "bash"
  },
  "language_info": {
   "codemirror_mode": "shell",
   "file_extension": ".sh",
   "mimetype": "text/x-sh",
   "name": "bash"
  }
 },
 "nbformat": 4,
 "nbformat_minor": 5
}
