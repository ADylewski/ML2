{
 "cells": [
  {
   "cell_type": "code",
   "execution_count": 1,
   "id": "increased-recorder",
   "metadata": {
    "execution": {
     "iopub.execute_input": "2021-05-02T02:19:30.070151Z",
     "iopub.status.busy": "2021-05-02T02:19:30.069382Z",
     "iopub.status.idle": "2021-05-02T02:19:37.136067Z",
     "shell.execute_reply": "2021-05-02T02:19:37.136615Z"
    },
    "papermill": {
     "duration": 7.089889,
     "end_time": "2021-05-02T02:19:37.136940",
     "exception": false,
     "start_time": "2021-05-02T02:19:30.047051",
     "status": "completed"
    },
    "tags": []
   },
   "outputs": [],
   "source": [
    "import numpy as np\n",
    "import pandas as pd\n",
    "import cv2\n",
    "import matplotlib.pyplot as plt\n",
    "import os\n",
    "from ultralytics import YOLO\n",
    "import torch\n",
    "import torch.nn.utils.prune as prune\n",
    "import torch.nn.functional as F\n",
    "import torch.nn as nn\n",
    "import os\n",
    "import json\n"
   ]
  },
  {
   "cell_type": "markdown",
   "id": "0622b6c8",
   "metadata": {},
   "source": [
    "# Cuda check and visualize data"
   ]
  },
  {
   "cell_type": "code",
   "execution_count": 18,
   "id": "2d1ca14b",
   "metadata": {},
   "outputs": [
    {
     "name": "stdout",
     "output_type": "stream",
     "text": [
      "PyTorch CUDA version: 12.4\n",
      "CUDA available: True\n",
      "CUDA devices: 1\n",
      "CUDA device name: NVIDIA GeForce GTX 1650\n"
     ]
    }
   ],
   "source": [
    "print(\"PyTorch CUDA version:\", torch.version.cuda)\n",
    "print(\"CUDA available:\", torch.cuda.is_available())\n",
    "print(\"CUDA devices:\", torch.cuda.device_count())\n",
    "print(\"CUDA device name:\", torch.cuda.get_device_name(0) if torch.cuda.is_available() else \"No device\")"
   ]
  },
  {
   "cell_type": "code",
   "execution_count": 19,
   "id": "30ef4fa7",
   "metadata": {},
   "outputs": [
    {
     "data": {
      "text/plain": [
       "<Figure size 1000x1000 with 1 Axes>"
      ]
     },
     "metadata": {},
     "output_type": "display_data"
    }
   ],
   "source": [
    "def visualize_image_with_bboxes(image_path, annotation_path):\n",
    "    image = cv2.imread(image_path)\n",
    "    image = cv2.cvtColor(image, cv2.COLOR_BGR2RGB)\n",
    "\n",
    "    with open(annotation_path, 'r') as file:\n",
    "        annotations = file.readlines()\n",
    "\n",
    "    height, width, _ = image.shape\n",
    "\n",
    "    for annotation in annotations:\n",
    "        values = annotation.strip().split()\n",
    "        class_id = int(values[0])\n",
    "        cx, cy, w, h = map(float, values[1:])\n",
    "\n",
    "        x_min = int((cx - w / 2) * width)\n",
    "        y_min = int((cy - h / 2) * height)\n",
    "        x_max = int((cx + w / 2) * width)\n",
    "        y_max = int((cy + h / 2) * height)\n",
    "\n",
    "        color = (255, 255, 255)\n",
    "        if class_id == 0:\n",
    "            color = (255, 0, 0)\n",
    "        elif class_id == 1:\n",
    "            color = (255, 255, 0)\n",
    "\n",
    "        cv2.rectangle(image, (x_min, y_min), (x_max, y_max), color, 12)\n",
    "\n",
    "    plt.figure(figsize=(10, 10))\n",
    "    plt.imshow(image)\n",
    "    plt.axis('off')\n",
    "    plt.show()\n",
    "\n",
    "visualize_image_with_bboxes(\"datasets/cocoa_diseases/images/train/Fito1.jpg\", \"datasets/cocoa_diseases/labels/train/Fito1.txt\")"
   ]
  },
  {
   "cell_type": "markdown",
   "id": "7cd060d9",
   "metadata": {},
   "source": [
    "# Regular YOLO"
   ]
  },
  {
   "cell_type": "code",
   "execution_count": null,
   "id": "572d2707",
   "metadata": {},
   "outputs": [],
   "source": [
    "model = YOLO(\"yolov11x\")\n",
    "\n",
    "train_results = model.train(\n",
    "    data=\"datasets/cocoa_diseases/cocoa_dataset.yaml\",\n",
    "    epochs=100,\n",
    "    project=\"models/yolo11\",\n",
    "    imgsz=640,\n",
    "    batch=4,  \n",
    "    device=\"cuda\", \n",
    "    workers=5  \n",
    ")\n",
    "\n",
    "model.save(\"models/model_files/yolo11_cocoa_trained.pt\")"
   ]
  },
  {
   "cell_type": "markdown",
   "id": "bdc9d06d",
   "metadata": {},
   "source": [
    "# Pruning setup "
   ]
  },
  {
   "cell_type": "code",
   "execution_count": 5,
   "id": "6919a01a",
   "metadata": {},
   "outputs": [],
   "source": [
    "def prune_model(pytorch_model, amount):\n",
    "    for name, module in pytorch_model.named_modules():\n",
    "        if isinstance(module, torch.nn.Conv2d):\n",
    "            prune.l1_unstructured(module, name=\"weight\", amount=amount)\n",
    "            prune.remove(module, \"weight\")\n",
    "            module.weight = nn.Parameter(module.weight.to_sparse())\n",
    "    return pytorch_model"
   ]
  },
  {
   "cell_type": "markdown",
   "id": "d80ced9d",
   "metadata": {},
   "source": [
    "# Pre-train pruning YOLO"
   ]
  },
  {
   "cell_type": "markdown",
   "id": "7ca71df7",
   "metadata": {},
   "source": [
    "## No coco retrain "
   ]
  },
  {
   "cell_type": "code",
   "execution_count": null,
   "id": "d2d724f3",
   "metadata": {},
   "outputs": [],
   "source": [
    "model = YOLO(\"yolo11x.pt\")\n",
    "model.model = prune_model(model.model, 0.05)\n",
    "\n",
    "train_results = model.train(\n",
    "    data=\"datasets/cocoa_diseases/cocoa_dataset.yaml\",\n",
    "    epochs=100,\n",
    "    project=\"models/yolo11_pruned_no_retrain\",\n",
    "    imgsz=640,\n",
    "    batch=4,  \n",
    "    device=\"cuda\", \n",
    "    workers=5  \n",
    ")\n",
    "\n",
    "model.save(\"models/model_files/yolo11_pruned_no_retrain.pt\")"
   ]
  },
  {
   "cell_type": "markdown",
   "id": "fb1da012",
   "metadata": {},
   "source": [
    "## Retrain on coco"
   ]
  },
  {
   "cell_type": "code",
   "execution_count": null,
   "id": "88aeef04",
   "metadata": {},
   "outputs": [],
   "source": [
    "model = YOLO(\"yolo11x.pt\")\n",
    "model.model = prune_model(model.model, 0.05)\n",
    "\n",
    "# Retrain on coco8 before training on cocoa dataset\n",
    "model.train(\n",
    "    data=\"datasets/coco8/coco8_dataset.yaml\",\n",
    "    epochs=5,                     \n",
    "    imgsz=640,\n",
    "    batch=4,\n",
    "    device=\"cuda\",\n",
    "    workers=1             \n",
    ")\n",
    "\n",
    "train_results = model.train(\n",
    "    data=\"datasets/cocoa_diseases/cocoa_dataset.yaml\",\n",
    "    epochs=100,\n",
    "    project=\"models/yolo11_pruned_retrain\",\n",
    "    imgsz=640,\n",
    "    batch=4,  \n",
    "    device=\"cuda\", \n",
    "    workers=5  \n",
    ")\n",
    "\n",
    "model.save(\"models/model_files/yolo11_pruned_retrain.pt\")"
   ]
  },
  {
   "cell_type": "markdown",
   "id": "4fe8075e",
   "metadata": {},
   "source": [
    "# Post-train pruning YOLO"
   ]
  },
  {
   "cell_type": "code",
   "execution_count": null,
   "id": "5d6533d4",
   "metadata": {},
   "outputs": [],
   "source": [
    "model = YOLO(\"models/model_files/yolo11_cocoa_trained.pt\")\n",
    "model.model = prune_model(model.model, 0.05)\n",
    "\n",
    "train_results = model.train(\n",
    "    data=\"datasets/cocoa_diseases/cocoa_dataset.yaml\",\n",
    "    epochs=10,\n",
    "    patience=5,\n",
    "    project=\"models/yolo11_post_pruned_retrain\",\n",
    "    imgsz=640,\n",
    "    batch=4,  \n",
    "    device=\"cuda\", \n",
    "    workers=5  \n",
    ")\n",
    "\n",
    "model.save(\"models/model_files/yolo11_post_pruned_retrain.pt\")"
   ]
  },
  {
   "cell_type": "markdown",
   "id": "bde0d55d",
   "metadata": {},
   "source": [
    "# Testing"
   ]
  },
  {
   "cell_type": "code",
   "execution_count": 3,
   "id": "cd39ccf4",
   "metadata": {},
   "outputs": [
    {
     "name": "stdout",
     "output_type": "stream",
     "text": [
      "train_dense.pt\n",
      "Ultralytics 8.3.58  Python-3.11.2 torch-2.5.1+cu124 CUDA:0 (NVIDIA GeForce GTX 1650, 4096MiB)\n",
      "YOLO11x summary (fused): 464 layers, 56,830,489 parameters, 0 gradients, 194.4 GFLOPs\n"
     ]
    },
    {
     "name": "stderr",
     "output_type": "stream",
     "text": [
      "\u001b[34m\u001b[1mval: \u001b[0mScanning C:\\Users\\danie\\Documents\\Programming\\Uni\\ML2\\datasets\\cocoa_diseases\\labels\\val.cache... 62 images, 0 backgrounds, 0 corrupt: 100%|██████████| 62/62 [00:00<?, ?it/s]\n",
      "                 Class     Images  Instances      Box(P          R      mAP50  mAP50-95): 100%|██████████| 4/4 [00:21<00:00,  5.31s/it]\n"
     ]
    },
    {
     "name": "stdout",
     "output_type": "stream",
     "text": [
      "                   all         62        289      0.725       0.65      0.731      0.506\n",
      "          phytophthora         30         39      0.747      0.564      0.675      0.498\n",
      "               monilia         23         30      0.652      0.767      0.756      0.562\n",
      "               healthy         52        220      0.777      0.618       0.76      0.457\n",
      "Speed: 2.5ms preprocess, 108.4ms inference, 0.0ms loss, 3.1ms postprocess per image\n",
      "Results saved to \u001b[1mruns\\detect\\val\u001b[0m\n",
      "train_pruned_local_structured_10_neuron.pt\n",
      "Ultralytics 8.3.58  Python-3.11.2 torch-2.5.1+cu124 CUDA:0 (NVIDIA GeForce GTX 1650, 4096MiB)\n",
      "YOLO11x summary (fused): 464 layers, 56,830,489 parameters, 0 gradients, 194.4 GFLOPs\n"
     ]
    },
    {
     "name": "stderr",
     "output_type": "stream",
     "text": [
      "\u001b[34m\u001b[1mval: \u001b[0mScanning C:\\Users\\danie\\Documents\\Programming\\Uni\\ML2\\datasets\\cocoa_diseases\\labels\\val.cache... 62 images, 0 backgrounds, 0 corrupt: 100%|██████████| 62/62 [00:00<?, ?it/s]\n",
      "                 Class     Images  Instances      Box(P          R      mAP50  mAP50-95): 100%|██████████| 4/4 [00:18<00:00,  4.75s/it]\n"
     ]
    },
    {
     "name": "stdout",
     "output_type": "stream",
     "text": [
      "                   all         62        289      0.609       0.68      0.632      0.403\n",
      "          phytophthora         30         39      0.699      0.655       0.65      0.442\n",
      "               monilia         23         30      0.679      0.707       0.68       0.47\n",
      "               healthy         52        220      0.449      0.677      0.566      0.299\n",
      "Speed: 4.4ms preprocess, 82.7ms inference, 0.0ms loss, 4.8ms postprocess per image\n",
      "Results saved to \u001b[1mruns\\detect\\val2\u001b[0m\n",
      "train_pruned_local_structured_15_neuron.pt\n",
      "Ultralytics 8.3.58  Python-3.11.2 torch-2.5.1+cu124 CUDA:0 (NVIDIA GeForce GTX 1650, 4096MiB)\n",
      "YOLO11x summary (fused): 464 layers, 56,830,489 parameters, 0 gradients, 194.4 GFLOPs\n"
     ]
    },
    {
     "name": "stderr",
     "output_type": "stream",
     "text": [
      "\u001b[34m\u001b[1mval: \u001b[0mScanning C:\\Users\\danie\\Documents\\Programming\\Uni\\ML2\\datasets\\cocoa_diseases\\labels\\val.cache... 62 images, 0 backgrounds, 0 corrupt: 100%|██████████| 62/62 [00:00<?, ?it/s]\n",
      "                 Class     Images  Instances      Box(P          R      mAP50  mAP50-95): 100%|██████████| 4/4 [00:28<00:00,  7.02s/it]\n"
     ]
    },
    {
     "name": "stdout",
     "output_type": "stream",
     "text": [
      "                   all         62        289      0.667      0.596      0.621        0.4\n",
      "          phytophthora         30         39      0.731      0.538      0.653      0.442\n",
      "               monilia         23         30      0.733       0.64      0.623      0.423\n",
      "               healthy         52        220      0.536      0.609      0.585      0.336\n",
      "Speed: 3.6ms preprocess, 156.7ms inference, 0.0ms loss, 6.2ms postprocess per image\n",
      "Results saved to \u001b[1mruns\\detect\\val3\u001b[0m\n",
      "train_pruned_local_structured_20_channel.pt\n",
      "Ultralytics 8.3.58  Python-3.11.2 torch-2.5.1+cu124 CUDA:0 (NVIDIA GeForce GTX 1650, 4096MiB)\n",
      "YOLO11x summary (fused): 464 layers, 56,830,489 parameters, 0 gradients, 194.4 GFLOPs\n"
     ]
    },
    {
     "name": "stderr",
     "output_type": "stream",
     "text": [
      "\u001b[34m\u001b[1mval: \u001b[0mScanning C:\\Users\\danie\\Documents\\Programming\\Uni\\ML2\\datasets\\cocoa_diseases\\labels\\val.cache... 62 images, 0 backgrounds, 0 corrupt: 100%|██████████| 62/62 [00:00<?, ?it/s]\n",
      "                 Class     Images  Instances      Box(P          R      mAP50  mAP50-95): 100%|██████████| 4/4 [00:32<00:00,  8.15s/it]\n"
     ]
    },
    {
     "name": "stdout",
     "output_type": "stream",
     "text": [
      "                   all         62        289      0.814      0.677      0.732       0.48\n",
      "          phytophthora         30         39      0.779       0.59      0.661       0.45\n",
      "               monilia         23         30      0.879      0.727      0.775      0.544\n",
      "               healthy         52        220      0.784      0.714      0.759      0.446\n",
      "Speed: 1.6ms preprocess, 267.8ms inference, 0.0ms loss, 6.9ms postprocess per image\n",
      "Results saved to \u001b[1mruns\\detect\\val4\u001b[0m\n",
      "train_pruned_local_structured_20_neuron.pt\n",
      "Ultralytics 8.3.58  Python-3.11.2 torch-2.5.1+cu124 CUDA:0 (NVIDIA GeForce GTX 1650, 4096MiB)\n",
      "YOLO11x summary (fused): 464 layers, 56,830,489 parameters, 0 gradients, 194.4 GFLOPs\n"
     ]
    },
    {
     "name": "stderr",
     "output_type": "stream",
     "text": [
      "\u001b[34m\u001b[1mval: \u001b[0mScanning C:\\Users\\danie\\Documents\\Programming\\Uni\\ML2\\datasets\\cocoa_diseases\\labels\\val.cache... 62 images, 0 backgrounds, 0 corrupt: 100%|██████████| 62/62 [00:00<?, ?it/s]\n",
      "                 Class     Images  Instances      Box(P          R      mAP50  mAP50-95): 100%|██████████| 4/4 [00:42<00:00, 10.58s/it]\n"
     ]
    },
    {
     "name": "stdout",
     "output_type": "stream",
     "text": [
      "                   all         62        289      0.415      0.414      0.358      0.188\n",
      "          phytophthora         30         39      0.507      0.462      0.439      0.242\n",
      "               monilia         23         30      0.413      0.467      0.402      0.222\n",
      "               healthy         52        220      0.323      0.314      0.234     0.0996\n",
      "Speed: 3.3ms preprocess, 416.5ms inference, 0.0ms loss, 7.9ms postprocess per image\n",
      "Results saved to \u001b[1mruns\\detect\\val5\u001b[0m\n",
      "train_pruned_local_structured_30_channel.pt\n",
      "Ultralytics 8.3.58  Python-3.11.2 torch-2.5.1+cu124 CUDA:0 (NVIDIA GeForce GTX 1650, 4096MiB)\n",
      "YOLO11x summary (fused): 464 layers, 56,830,489 parameters, 0 gradients, 194.4 GFLOPs\n"
     ]
    },
    {
     "name": "stderr",
     "output_type": "stream",
     "text": [
      "\u001b[34m\u001b[1mval: \u001b[0mScanning C:\\Users\\danie\\Documents\\Programming\\Uni\\ML2\\datasets\\cocoa_diseases\\labels\\val.cache... 62 images, 0 backgrounds, 0 corrupt: 100%|██████████| 62/62 [00:00<?, ?it/s]\n",
      "                 Class     Images  Instances      Box(P          R      mAP50  mAP50-95): 100%|██████████| 4/4 [00:24<00:00,  6.20s/it]\n"
     ]
    },
    {
     "name": "stdout",
     "output_type": "stream",
     "text": [
      "                   all         62        289      0.762      0.676      0.724      0.513\n",
      "          phytophthora         30         39      0.786      0.661      0.699      0.513\n",
      "               monilia         23         30       0.73        0.7      0.735      0.582\n",
      "               healthy         52        220      0.769      0.668      0.739      0.443\n",
      "Speed: 2.4ms preprocess, 126.9ms inference, 0.0ms loss, 6.1ms postprocess per image\n",
      "Results saved to \u001b[1mruns\\detect\\val6\u001b[0m\n",
      "train_pruned_local_structured_30_channel_mask.pt\n",
      "Ultralytics 8.3.58  Python-3.11.2 torch-2.5.1+cu124 CUDA:0 (NVIDIA GeForce GTX 1650, 4096MiB)\n",
      "YOLO11x summary (fused): 464 layers, 56,830,489 parameters, 0 gradients, 194.4 GFLOPs\n"
     ]
    },
    {
     "name": "stderr",
     "output_type": "stream",
     "text": [
      "\u001b[34m\u001b[1mval: \u001b[0mScanning C:\\Users\\danie\\Documents\\Programming\\Uni\\ML2\\datasets\\cocoa_diseases\\labels\\val.cache... 62 images, 0 backgrounds, 0 corrupt: 100%|██████████| 62/62 [00:00<?, ?it/s]\n",
      "                 Class     Images  Instances      Box(P          R      mAP50  mAP50-95): 100%|██████████| 4/4 [00:21<00:00,  5.29s/it]\n"
     ]
    },
    {
     "name": "stdout",
     "output_type": "stream",
     "text": [
      "                   all         62        289      0.574      0.544      0.568      0.325\n",
      "          phytophthora         30         39      0.519      0.538       0.47      0.288\n",
      "               monilia         23         30      0.511      0.433      0.514      0.298\n",
      "               healthy         52        220      0.691      0.659      0.719       0.39\n",
      "Speed: 9.7ms preprocess, 105.1ms inference, 0.0ms loss, 5.4ms postprocess per image\n",
      "Results saved to \u001b[1mruns\\detect\\val7\u001b[0m\n",
      "train_pruned_local_structured_30_neuron.pt\n",
      "Ultralytics 8.3.58  Python-3.11.2 torch-2.5.1+cu124 CUDA:0 (NVIDIA GeForce GTX 1650, 4096MiB)\n",
      "YOLO11x summary (fused): 464 layers, 56,830,489 parameters, 0 gradients, 194.4 GFLOPs\n"
     ]
    },
    {
     "name": "stderr",
     "output_type": "stream",
     "text": [
      "\u001b[34m\u001b[1mval: \u001b[0mScanning C:\\Users\\danie\\Documents\\Programming\\Uni\\ML2\\datasets\\cocoa_diseases\\labels\\val.cache... 62 images, 0 backgrounds, 0 corrupt: 100%|██████████| 62/62 [00:00<?, ?it/s]\n",
      "                 Class     Images  Instances      Box(P          R      mAP50  mAP50-95): 100%|██████████| 4/4 [00:21<00:00,  5.26s/it]\n"
     ]
    },
    {
     "name": "stdout",
     "output_type": "stream",
     "text": [
      "                   all         62        289     0.0542      0.227     0.0464     0.0228\n",
      "          phytophthora         30         39     0.0846      0.308     0.0383     0.0121\n",
      "               monilia         23         30     0.0714      0.333      0.098     0.0552\n",
      "               healthy         52        220    0.00667     0.0409     0.0028     0.0011\n",
      "Speed: 9.9ms preprocess, 94.9ms inference, 0.0ms loss, 8.2ms postprocess per image\n",
      "Results saved to \u001b[1mruns\\detect\\val8\u001b[0m\n",
      "train_pruned_local_structured_40_neuron.pt\n",
      "Ultralytics 8.3.58  Python-3.11.2 torch-2.5.1+cu124 CUDA:0 (NVIDIA GeForce GTX 1650, 4096MiB)\n",
      "YOLO11x summary (fused): 464 layers, 56,830,489 parameters, 0 gradients, 194.4 GFLOPs\n"
     ]
    },
    {
     "name": "stderr",
     "output_type": "stream",
     "text": [
      "\u001b[34m\u001b[1mval: \u001b[0mScanning C:\\Users\\danie\\Documents\\Programming\\Uni\\ML2\\datasets\\cocoa_diseases\\labels\\val.cache... 62 images, 0 backgrounds, 0 corrupt: 100%|██████████| 62/62 [00:00<?, ?it/s]\n",
      "                 Class     Images  Instances      Box(P          R      mAP50  mAP50-95): 100%|██████████| 4/4 [00:24<00:00,  6.24s/it]\n"
     ]
    },
    {
     "name": "stdout",
     "output_type": "stream",
     "text": [
      "                   all         62        289     0.0236     0.0917    0.00676    0.00266\n",
      "          phytophthora         30         39     0.0215      0.128    0.00539    0.00181\n",
      "               monilia         23         30     0.0467      0.133     0.0138    0.00574\n",
      "               healthy         52        220    0.00269     0.0136     0.0011    0.00042\n",
      "Speed: 9.5ms preprocess, 122.7ms inference, 0.0ms loss, 7.4ms postprocess per image\n",
      "Results saved to \u001b[1mruns\\detect\\val9\u001b[0m\n",
      "train_pruned_local_structured_50_channel.pt\n",
      "Ultralytics 8.3.58  Python-3.11.2 torch-2.5.1+cu124 CUDA:0 (NVIDIA GeForce GTX 1650, 4096MiB)\n",
      "YOLO11x summary (fused): 464 layers, 56,830,489 parameters, 0 gradients, 194.4 GFLOPs\n"
     ]
    },
    {
     "name": "stderr",
     "output_type": "stream",
     "text": [
      "\u001b[34m\u001b[1mval: \u001b[0mScanning C:\\Users\\danie\\Documents\\Programming\\Uni\\ML2\\datasets\\cocoa_diseases\\labels\\val.cache... 62 images, 0 backgrounds, 0 corrupt: 100%|██████████| 62/62 [00:00<?, ?it/s]\n",
      "                 Class     Images  Instances      Box(P          R      mAP50  mAP50-95): 100%|██████████| 4/4 [00:20<00:00,  5.10s/it]\n"
     ]
    },
    {
     "name": "stdout",
     "output_type": "stream",
     "text": [
      "                   all         62        289      0.741      0.677       0.73      0.484\n",
      "          phytophthora         30         39      0.754      0.629      0.697      0.494\n",
      "               monilia         23         30      0.706      0.733      0.728      0.509\n",
      "               healthy         52        220      0.764      0.668      0.765      0.449\n",
      "Speed: 9.3ms preprocess, 109.0ms inference, 0.0ms loss, 5.0ms postprocess per image\n",
      "Results saved to \u001b[1mruns\\detect\\val10\u001b[0m\n",
      "train_pruned_local_structured_50_neuron.pt\n",
      "Ultralytics 8.3.58  Python-3.11.2 torch-2.5.1+cu124 CUDA:0 (NVIDIA GeForce GTX 1650, 4096MiB)\n",
      "YOLO11x summary (fused): 464 layers, 56,830,489 parameters, 0 gradients, 194.4 GFLOPs\n"
     ]
    },
    {
     "name": "stderr",
     "output_type": "stream",
     "text": [
      "\u001b[34m\u001b[1mval: \u001b[0mScanning C:\\Users\\danie\\Documents\\Programming\\Uni\\ML2\\datasets\\cocoa_diseases\\labels\\val.cache... 62 images, 0 backgrounds, 0 corrupt: 100%|██████████| 62/62 [00:00<?, ?it/s]\n",
      "                 Class     Images  Instances      Box(P          R      mAP50  mAP50-95): 100%|██████████| 4/4 [00:21<00:00,  5.44s/it]\n"
     ]
    },
    {
     "name": "stdout",
     "output_type": "stream",
     "text": [
      "                   all         62        289    0.00679     0.0398   0.000921   0.000343\n",
      "          phytophthora         30         39     0.0156     0.0769    0.00162   0.000665\n",
      "               monilia         23         30     0.0037     0.0333   0.000811   0.000305\n",
      "               healthy         52        220    0.00109    0.00909   0.000332   5.97e-05\n",
      "Speed: 9.1ms preprocess, 92.8ms inference, 0.0ms loss, 7.1ms postprocess per image\n",
      "Results saved to \u001b[1mruns\\detect\\val11\u001b[0m\n",
      "train_pruned_local_unstructured_10.pt\n",
      "Ultralytics 8.3.58  Python-3.11.2 torch-2.5.1+cu124 CUDA:0 (NVIDIA GeForce GTX 1650, 4096MiB)\n",
      "YOLO11x summary (fused): 464 layers, 56,830,489 parameters, 0 gradients, 194.4 GFLOPs\n"
     ]
    },
    {
     "name": "stderr",
     "output_type": "stream",
     "text": [
      "\u001b[34m\u001b[1mval: \u001b[0mScanning C:\\Users\\danie\\Documents\\Programming\\Uni\\ML2\\datasets\\cocoa_diseases\\labels\\val.cache... 62 images, 0 backgrounds, 0 corrupt: 100%|██████████| 62/62 [00:00<?, ?it/s]\n",
      "                 Class     Images  Instances      Box(P          R      mAP50  mAP50-95): 100%|██████████| 4/4 [00:18<00:00,  4.70s/it]\n"
     ]
    },
    {
     "name": "stdout",
     "output_type": "stream",
     "text": [
      "                   all         62        289      0.707      0.563      0.629      0.408\n",
      "          phytophthora         30         39      0.814      0.561      0.653      0.454\n",
      "               monilia         23         30      0.746      0.588      0.665      0.447\n",
      "               healthy         52        220      0.561      0.541      0.569      0.322\n",
      "Speed: 9.3ms preprocess, 89.8ms inference, 0.0ms loss, 4.7ms postprocess per image\n",
      "Results saved to \u001b[1mruns\\detect\\val12\u001b[0m\n",
      "train_pruned_local_unstructured_15.pt\n",
      "Ultralytics 8.3.58  Python-3.11.2 torch-2.5.1+cu124 CUDA:0 (NVIDIA GeForce GTX 1650, 4096MiB)\n",
      "YOLO11x summary (fused): 464 layers, 56,830,489 parameters, 0 gradients, 194.4 GFLOPs\n"
     ]
    },
    {
     "name": "stderr",
     "output_type": "stream",
     "text": [
      "\u001b[34m\u001b[1mval: \u001b[0mScanning C:\\Users\\danie\\Documents\\Programming\\Uni\\ML2\\datasets\\cocoa_diseases\\labels\\val.cache... 62 images, 0 backgrounds, 0 corrupt: 100%|██████████| 62/62 [00:00<?, ?it/s]\n",
      "                 Class     Images  Instances      Box(P          R      mAP50  mAP50-95): 100%|██████████| 4/4 [00:19<00:00,  4.79s/it]\n"
     ]
    },
    {
     "name": "stdout",
     "output_type": "stream",
     "text": [
      "                   all         62        289      0.652      0.602      0.613       0.38\n",
      "          phytophthora         30         39      0.673      0.615      0.628      0.413\n",
      "               monilia         23         30      0.723      0.695      0.681      0.445\n",
      "               healthy         52        220      0.561      0.495       0.53      0.282\n",
      "Speed: 9.8ms preprocess, 92.3ms inference, 0.0ms loss, 6.3ms postprocess per image\n",
      "Results saved to \u001b[1mruns\\detect\\val13\u001b[0m\n",
      "train_pruned_local_unstructured_20.pt\n",
      "Ultralytics 8.3.58  Python-3.11.2 torch-2.5.1+cu124 CUDA:0 (NVIDIA GeForce GTX 1650, 4096MiB)\n",
      "YOLO11x summary (fused): 464 layers, 56,830,489 parameters, 0 gradients, 194.4 GFLOPs\n"
     ]
    },
    {
     "name": "stderr",
     "output_type": "stream",
     "text": [
      "\u001b[34m\u001b[1mval: \u001b[0mScanning C:\\Users\\danie\\Documents\\Programming\\Uni\\ML2\\datasets\\cocoa_diseases\\labels\\val.cache... 62 images, 0 backgrounds, 0 corrupt: 100%|██████████| 62/62 [00:00<?, ?it/s]\n",
      "                 Class     Images  Instances      Box(P          R      mAP50  mAP50-95): 100%|██████████| 4/4 [00:18<00:00,  4.66s/it]\n"
     ]
    },
    {
     "name": "stdout",
     "output_type": "stream",
     "text": [
      "                   all         62        289      0.404      0.457      0.358      0.197\n",
      "          phytophthora         30         39      0.506      0.513      0.426      0.276\n",
      "               monilia         23         30       0.41        0.5      0.397      0.212\n",
      "               healthy         52        220      0.298      0.359      0.252      0.103\n",
      "Speed: 9.5ms preprocess, 85.1ms inference, 0.0ms loss, 6.1ms postprocess per image\n",
      "Results saved to \u001b[1mruns\\detect\\val14\u001b[0m\n",
      "train_pruned_local_unstructured_30.pt\n",
      "Ultralytics 8.3.58  Python-3.11.2 torch-2.5.1+cu124 CUDA:0 (NVIDIA GeForce GTX 1650, 4096MiB)\n",
      "YOLO11x summary (fused): 464 layers, 56,830,489 parameters, 0 gradients, 194.4 GFLOPs\n"
     ]
    },
    {
     "name": "stderr",
     "output_type": "stream",
     "text": [
      "\u001b[34m\u001b[1mval: \u001b[0mScanning C:\\Users\\danie\\Documents\\Programming\\Uni\\ML2\\datasets\\cocoa_diseases\\labels\\val.cache... 62 images, 0 backgrounds, 0 corrupt: 100%|██████████| 62/62 [00:00<?, ?it/s]\n",
      "                 Class     Images  Instances      Box(P          R      mAP50  mAP50-95): 100%|██████████| 4/4 [00:19<00:00,  4.87s/it]\n"
     ]
    },
    {
     "name": "stdout",
     "output_type": "stream",
     "text": [
      "                   all         62        289       0.11      0.164     0.0689     0.0344\n",
      "          phytophthora         30         39      0.119      0.179     0.0586     0.0211\n",
      "               monilia         23         30      0.202        0.3      0.142     0.0795\n",
      "               healthy         52        220    0.00907     0.0136    0.00587    0.00255\n",
      "Speed: 9.2ms preprocess, 90.9ms inference, 0.0ms loss, 8.0ms postprocess per image\n",
      "Results saved to \u001b[1mruns\\detect\\val15\u001b[0m\n",
      "train_pruned_local_unstructured_40.pt\n",
      "Ultralytics 8.3.58  Python-3.11.2 torch-2.5.1+cu124 CUDA:0 (NVIDIA GeForce GTX 1650, 4096MiB)\n",
      "YOLO11x summary (fused): 464 layers, 56,830,489 parameters, 0 gradients, 194.4 GFLOPs\n"
     ]
    },
    {
     "name": "stderr",
     "output_type": "stream",
     "text": [
      "\u001b[34m\u001b[1mval: \u001b[0mScanning C:\\Users\\danie\\Documents\\Programming\\Uni\\ML2\\datasets\\cocoa_diseases\\labels\\val.cache... 62 images, 0 backgrounds, 0 corrupt: 100%|██████████| 62/62 [00:00<?, ?it/s]\n",
      "                 Class     Images  Instances      Box(P          R      mAP50  mAP50-95): 100%|██████████| 4/4 [00:19<00:00,  4.83s/it]\n"
     ]
    },
    {
     "name": "stdout",
     "output_type": "stream",
     "text": [
      "                   all         62        289     0.0264     0.0444     0.0189    0.00906\n",
      "          phytophthora         30         39          0          0      0.006    0.00226\n",
      "               monilia         23         30     0.0793      0.133     0.0495     0.0244\n",
      "               healthy         52        220          0          0    0.00132    0.00052\n",
      "Speed: 9.5ms preprocess, 82.4ms inference, 0.0ms loss, 6.1ms postprocess per image\n",
      "Results saved to \u001b[1mruns\\detect\\val16\u001b[0m\n",
      "train_pruned_local_unstructured_50.pt\n",
      "Ultralytics 8.3.58  Python-3.11.2 torch-2.5.1+cu124 CUDA:0 (NVIDIA GeForce GTX 1650, 4096MiB)\n",
      "YOLO11x summary (fused): 464 layers, 56,830,489 parameters, 0 gradients, 194.4 GFLOPs\n"
     ]
    },
    {
     "name": "stderr",
     "output_type": "stream",
     "text": [
      "\u001b[34m\u001b[1mval: \u001b[0mScanning C:\\Users\\danie\\Documents\\Programming\\Uni\\ML2\\datasets\\cocoa_diseases\\labels\\val.cache... 62 images, 0 backgrounds, 0 corrupt: 100%|██████████| 62/62 [00:00<?, ?it/s]\n",
      "                 Class     Images  Instances      Box(P          R      mAP50  mAP50-95): 100%|██████████| 4/4 [00:19<00:00,  4.93s/it]\n"
     ]
    },
    {
     "name": "stdout",
     "output_type": "stream",
     "text": [
      "                   all         62        289    0.00397     0.0171    0.00074   0.000263\n",
      "          phytophthora         30         39     0.0119     0.0513    0.00214   0.000781\n",
      "               monilia         23         30          0          0          0          0\n",
      "               healthy         52        220          0          0   7.93e-05   7.93e-06\n",
      "Speed: 9.6ms preprocess, 91.1ms inference, 0.0ms loss, 7.2ms postprocess per image\n",
      "Results saved to \u001b[1mruns\\detect\\val17\u001b[0m\n"
     ]
    }
   ],
   "source": [
    "model_results = {}\n",
    "directory = \"fine_tuned\"\n",
    "for filename in os.listdir(f\"models/model_files/{directory}\"):\n",
    "    print(f\"{filename}\")\n",
    "    model = YOLO(f\"models/model_files/{directory}/{filename}\")\n",
    "    # model = model.to(\"cuda\")\n",
    "    # for name, param in model.named_parameters():\n",
    "    #     if param.device != torch.device(\"cuda:0\"):\n",
    "    #         print(param.device)\n",
    "    results = model.val(device=\"cuda\",data=\"datasets/cocoa_diseases/cocoa_dataset.yaml\")\n",
    "    \n",
    "    metrics = {\n",
    "        \"mAP50\": results.box.map50,                \n",
    "        \"mAP50-95\":results.box.map,   \n",
    "        \"inference_time (ms)\": results.speed[\"inference\"]  \n",
    "    }\n",
    "    \n",
    "    model_results[os.path.splitext(filename)[0]] = metrics\n",
    "\n",
    "output_path = f\"{directory}_model_validation_results.json\"\n",
    "with open(output_path, \"w\") as f:\n",
    "    json.dump(model_results, f, indent=4)"
   ]
  },
  {
   "cell_type": "code",
   "execution_count": 6,
   "id": "85201988",
   "metadata": {},
   "outputs": [
    {
     "name": "stdout",
     "output_type": "stream",
     "text": [
      "\n",
      "0: 640x480 2 healthys, 77.7ms\n",
      "1: 640x480 2 phytophthoras, 1 monilia, 3 healthys, 77.7ms\n",
      "2: 640x480 1 phytophthora, 5 monilias, 3 healthys, 77.7ms\n",
      "Speed: 0.0ms preprocess, 77.7ms inference, 0.0ms postprocess per image at shape (1, 3, 640, 480)\n"
     ]
    }
   ],
   "source": [
    "# directory = \"datasets/cocoa_diseases/images/val/\"\n",
    "\n",
    "# model = YOLO(\"models/model_files/yolo11.pt\")\n",
    "# results = model.predict([directory+\"Sana25.jpg\",directory+\"Fito7.jpg\",directory+\"Monilia31.jpg\"])\n",
    "\n",
    "# for result in results:\n",
    "#     result.show()"
   ]
  },
  {
   "cell_type": "code",
   "execution_count": 11,
   "id": "55383b20",
   "metadata": {},
   "outputs": [
    {
     "name": "stdout",
     "output_type": "stream",
     "text": [
      "\n",
      "0: 640x480 1 phytophthora, 3 monilias, 4 healthys, 67.6ms\n",
      "Speed: 5.5ms preprocess, 67.6ms inference, 2.1ms postprocess per image at shape (1, 3, 640, 480)\n"
     ]
    }
   ],
   "source": [
    "# directory = \"datasets/cocoa_diseases/images/val/\"\n",
    "\n",
    "# model = YOLO(\"models/model_files/yolo11_post_pruned_retrain.pt\")\n",
    "# # results = model.predict([directory+\"Sana25.jpg\",directory+\"Fito7.jpg\",directory+\"Monilia31.jpg\"])\n",
    "# results = model.predict([directory+\"Monilia31.jpg\"])\n",
    "\n",
    "# for result in results:\n",
    "#     result.save(\"normal_post_pruned_retrained.png\")\n",
    "#     result.show()\n"
   ]
  }
 ],
 "metadata": {
  "kernelspec": {
   "display_name": "Python 3",
   "language": "python",
   "name": "python3"
  },
  "language_info": {
   "codemirror_mode": {
    "name": "ipython",
    "version": 3
   },
   "file_extension": ".py",
   "mimetype": "text/x-python",
   "name": "python",
   "nbconvert_exporter": "python",
   "pygments_lexer": "ipython3",
   "version": "3.11.2"
  },
  "papermill": {
   "default_parameters": {},
   "duration": 149.908084,
   "end_time": "2021-05-02T02:21:51.524817",
   "environment_variables": {},
   "exception": null,
   "input_path": "__notebook__.ipynb",
   "output_path": "__notebook__.ipynb",
   "parameters": {},
   "start_time": "2021-05-02T02:19:21.616733",
   "version": "2.3.3"
  }
 },
 "nbformat": 4,
 "nbformat_minor": 5
}
