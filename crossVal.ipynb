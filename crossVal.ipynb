{
 "cells": [
  {
   "cell_type": "code",
   "execution_count": 23,
   "id": "fc6a5d8c-d835-4f15-88ce-842dd4c05461",
   "metadata": {
    "tags": []
   },
   "outputs": [],
   "source": [
    "from pathlib import Path\n",
    "import yaml\n",
    "import pandas as pd\n",
    "from sklearn.model_selection import KFold\n",
    "import shutil"
   ]
  },
  {
   "cell_type": "code",
   "execution_count": 24,
   "id": "c2980927-562a-48b7-bb38-3ecdf3e5d294",
   "metadata": {
    "tags": []
   },
   "outputs": [],
   "source": [
    "dataset_path = Path(\"../full_dataset\")  # replace with 'path/to/dataset' for your custom data\n",
    "labels = sorted(dataset_path.rglob(\"GoodLabels2/*.txt\"))  # all data in 'labels'"
   ]
  },
  {
   "cell_type": "code",
   "execution_count": 63,
   "id": "4323eea8-881c-45d2-b8ed-3310bf860f8f",
   "metadata": {
    "collapsed": true,
    "jupyter": {
     "outputs_hidden": true
    },
    "tags": []
   },
   "outputs": [
    {
     "name": "stdout",
     "output_type": "stream",
     "text": [
      "[PosixPath('../full_dataset/GoodLabels2/Fito1.jpg.txt'), PosixPath('../full_dataset/GoodLabels2/Fito10.jpg.txt'), PosixPath('../full_dataset/GoodLabels2/Fito100.jpg.txt'), PosixPath('../full_dataset/GoodLabels2/Fito101.jpg.txt'), PosixPath('../full_dataset/GoodLabels2/Fito102.jpg.txt'), PosixPath('../full_dataset/GoodLabels2/Fito103.jpg.txt'), PosixPath('../full_dataset/GoodLabels2/Fito104.jpg.txt'), PosixPath('../full_dataset/GoodLabels2/Fito105.jpg.txt'), PosixPath('../full_dataset/GoodLabels2/Fito106.jpg.txt'), PosixPath('../full_dataset/GoodLabels2/Fito107.jpg.txt'), PosixPath('../full_dataset/GoodLabels2/Fito11.jpg.txt'), PosixPath('../full_dataset/GoodLabels2/Fito12.jpg.txt'), PosixPath('../full_dataset/GoodLabels2/Fito13.jpg.txt'), PosixPath('../full_dataset/GoodLabels2/Fito14.jpg.txt'), PosixPath('../full_dataset/GoodLabels2/Fito15.jpg.txt'), PosixPath('../full_dataset/GoodLabels2/Fito16.jpg.txt'), PosixPath('../full_dataset/GoodLabels2/Fito17.jpg.txt'), PosixPath('../full_dataset/GoodLabels2/Fito18.jpg.txt'), PosixPath('../full_dataset/GoodLabels2/Fito19.jpg.txt'), PosixPath('../full_dataset/GoodLabels2/Fito2.jpg.txt'), PosixPath('../full_dataset/GoodLabels2/Fito20.jpg.txt'), PosixPath('../full_dataset/GoodLabels2/Fito21.jpg.txt'), PosixPath('../full_dataset/GoodLabels2/Fito22.jpg.txt'), PosixPath('../full_dataset/GoodLabels2/Fito23.jpg.txt'), PosixPath('../full_dataset/GoodLabels2/Fito24.jpg.txt'), PosixPath('../full_dataset/GoodLabels2/Fito25.jpg.txt'), PosixPath('../full_dataset/GoodLabels2/Fito26.jpg.txt'), PosixPath('../full_dataset/GoodLabels2/Fito27.jpg.txt'), PosixPath('../full_dataset/GoodLabels2/Fito28.jpg.txt'), PosixPath('../full_dataset/GoodLabels2/Fito29.jpg.txt'), PosixPath('../full_dataset/GoodLabels2/Fito3.jpg.txt'), PosixPath('../full_dataset/GoodLabels2/Fito30.jpg.txt'), PosixPath('../full_dataset/GoodLabels2/Fito31.jpg.txt'), PosixPath('../full_dataset/GoodLabels2/Fito32.jpg.txt'), PosixPath('../full_dataset/GoodLabels2/Fito33.jpg.txt'), PosixPath('../full_dataset/GoodLabels2/Fito34.jpg.txt'), PosixPath('../full_dataset/GoodLabels2/Fito35.jpg.txt'), PosixPath('../full_dataset/GoodLabels2/Fito36.jpg.txt'), PosixPath('../full_dataset/GoodLabels2/Fito37.jpg.txt'), PosixPath('../full_dataset/GoodLabels2/Fito38.jpg.txt'), PosixPath('../full_dataset/GoodLabels2/Fito39.jpg.txt'), PosixPath('../full_dataset/GoodLabels2/Fito4.jpg.txt'), PosixPath('../full_dataset/GoodLabels2/Fito40.jpg.txt'), PosixPath('../full_dataset/GoodLabels2/Fito41.jpg.txt'), PosixPath('../full_dataset/GoodLabels2/Fito42.jpg.txt'), PosixPath('../full_dataset/GoodLabels2/Fito43.jpg.txt'), PosixPath('../full_dataset/GoodLabels2/Fito44.jpg.txt'), PosixPath('../full_dataset/GoodLabels2/Fito45.jpg.txt'), PosixPath('../full_dataset/GoodLabels2/Fito46.jpg.txt'), PosixPath('../full_dataset/GoodLabels2/Fito47.jpg.txt'), PosixPath('../full_dataset/GoodLabels2/Fito48.jpg.txt'), PosixPath('../full_dataset/GoodLabels2/Fito49.jpg.txt'), PosixPath('../full_dataset/GoodLabels2/Fito5.jpg.txt'), PosixPath('../full_dataset/GoodLabels2/Fito50.jpg.txt'), PosixPath('../full_dataset/GoodLabels2/Fito51.jpg.txt'), PosixPath('../full_dataset/GoodLabels2/Fito52.jpg.txt'), PosixPath('../full_dataset/GoodLabels2/Fito53.jpg.txt'), PosixPath('../full_dataset/GoodLabels2/Fito54.jpg.txt'), PosixPath('../full_dataset/GoodLabels2/Fito55.jpg.txt'), PosixPath('../full_dataset/GoodLabels2/Fito56.jpg.txt'), PosixPath('../full_dataset/GoodLabels2/Fito57.jpg.txt'), PosixPath('../full_dataset/GoodLabels2/Fito58.jpg.txt'), PosixPath('../full_dataset/GoodLabels2/Fito59.jpg.txt'), PosixPath('../full_dataset/GoodLabels2/Fito6.jpg.txt'), PosixPath('../full_dataset/GoodLabels2/Fito60.jpg.txt'), PosixPath('../full_dataset/GoodLabels2/Fito61.jpg.txt'), PosixPath('../full_dataset/GoodLabels2/Fito62.jpg.txt'), PosixPath('../full_dataset/GoodLabels2/Fito63.jpg.txt'), PosixPath('../full_dataset/GoodLabels2/Fito64.jpg.txt'), PosixPath('../full_dataset/GoodLabels2/Fito65.jpg.txt'), PosixPath('../full_dataset/GoodLabels2/Fito66.jpg.txt'), PosixPath('../full_dataset/GoodLabels2/Fito67.jpg.txt'), PosixPath('../full_dataset/GoodLabels2/Fito68.jpg.txt'), PosixPath('../full_dataset/GoodLabels2/Fito69.jpg.txt'), PosixPath('../full_dataset/GoodLabels2/Fito7.jpg.txt'), PosixPath('../full_dataset/GoodLabels2/Fito70.jpg.txt'), PosixPath('../full_dataset/GoodLabels2/Fito71.jpg.txt'), PosixPath('../full_dataset/GoodLabels2/Fito72.jpg.txt'), PosixPath('../full_dataset/GoodLabels2/Fito73.jpg.txt'), PosixPath('../full_dataset/GoodLabels2/Fito74.jpg.txt'), PosixPath('../full_dataset/GoodLabels2/Fito75.jpg.txt'), PosixPath('../full_dataset/GoodLabels2/Fito76.jpg.txt'), PosixPath('../full_dataset/GoodLabels2/Fito77.jpg.txt'), PosixPath('../full_dataset/GoodLabels2/Fito78.jpg.txt'), PosixPath('../full_dataset/GoodLabels2/Fito79.jpg.txt'), PosixPath('../full_dataset/GoodLabels2/Fito8.jpg.txt'), PosixPath('../full_dataset/GoodLabels2/Fito80.jpg.txt'), PosixPath('../full_dataset/GoodLabels2/Fito81.jpg.txt'), PosixPath('../full_dataset/GoodLabels2/Fito82.jpg.txt'), PosixPath('../full_dataset/GoodLabels2/Fito83.jpg.txt'), PosixPath('../full_dataset/GoodLabels2/Fito84.jpg.txt'), PosixPath('../full_dataset/GoodLabels2/Fito85.jpg.txt'), PosixPath('../full_dataset/GoodLabels2/Fito86.jpg.txt'), PosixPath('../full_dataset/GoodLabels2/Fito87.jpg.txt'), PosixPath('../full_dataset/GoodLabels2/Fito88.jpg.txt'), PosixPath('../full_dataset/GoodLabels2/Fito89.jpg.txt'), PosixPath('../full_dataset/GoodLabels2/Fito9.jpg.txt'), PosixPath('../full_dataset/GoodLabels2/Fito90.jpg.txt'), PosixPath('../full_dataset/GoodLabels2/Fito91.jpg.txt'), PosixPath('../full_dataset/GoodLabels2/Fito92.jpg.txt'), PosixPath('../full_dataset/GoodLabels2/Fito93.jpg.txt'), PosixPath('../full_dataset/GoodLabels2/Fito94.jpg.txt'), PosixPath('../full_dataset/GoodLabels2/Fito95.jpg.txt'), PosixPath('../full_dataset/GoodLabels2/Fito96.jpg.txt'), PosixPath('../full_dataset/GoodLabels2/Fito97.jpg.txt'), PosixPath('../full_dataset/GoodLabels2/Fito98.jpg.txt'), PosixPath('../full_dataset/GoodLabels2/Fito99.jpg.txt'), PosixPath('../full_dataset/GoodLabels2/Monilia1.jpg.txt'), PosixPath('../full_dataset/GoodLabels2/Monilia10.jpg.txt'), PosixPath('../full_dataset/GoodLabels2/Monilia100.jpg.txt'), PosixPath('../full_dataset/GoodLabels2/Monilia101.jpg.txt'), PosixPath('../full_dataset/GoodLabels2/Monilia102.jpg.txt'), PosixPath('../full_dataset/GoodLabels2/Monilia103.jpg.txt'), PosixPath('../full_dataset/GoodLabels2/Monilia104.jpg.txt'), PosixPath('../full_dataset/GoodLabels2/Monilia105.jpg.txt'), PosixPath('../full_dataset/GoodLabels2/Monilia11.jpg.txt'), PosixPath('../full_dataset/GoodLabels2/Monilia12.jpg.txt'), PosixPath('../full_dataset/GoodLabels2/Monilia13.jpg.txt'), PosixPath('../full_dataset/GoodLabels2/Monilia14.jpg.txt'), PosixPath('../full_dataset/GoodLabels2/Monilia15.jpg.txt'), PosixPath('../full_dataset/GoodLabels2/Monilia16.jpg.txt'), PosixPath('../full_dataset/GoodLabels2/Monilia17.jpg.txt'), PosixPath('../full_dataset/GoodLabels2/Monilia18.jpg.txt'), PosixPath('../full_dataset/GoodLabels2/Monilia19.jpg.txt'), PosixPath('../full_dataset/GoodLabels2/Monilia2.jpg.txt'), PosixPath('../full_dataset/GoodLabels2/Monilia20.jpg.txt'), PosixPath('../full_dataset/GoodLabels2/Monilia21.jpg.txt'), PosixPath('../full_dataset/GoodLabels2/Monilia22.jpg.txt'), PosixPath('../full_dataset/GoodLabels2/Monilia23.jpg.txt'), PosixPath('../full_dataset/GoodLabels2/Monilia24.jpg.txt'), PosixPath('../full_dataset/GoodLabels2/Monilia25.jpg.txt'), PosixPath('../full_dataset/GoodLabels2/Monilia26.jpg.txt'), PosixPath('../full_dataset/GoodLabels2/Monilia27.jpg.txt'), PosixPath('../full_dataset/GoodLabels2/Monilia28.jpg.txt'), PosixPath('../full_dataset/GoodLabels2/Monilia29.jpg.txt'), PosixPath('../full_dataset/GoodLabels2/Monilia3.jpg.txt'), PosixPath('../full_dataset/GoodLabels2/Monilia30.jpg.txt'), PosixPath('../full_dataset/GoodLabels2/Monilia31.jpg.txt'), PosixPath('../full_dataset/GoodLabels2/Monilia32.jpg.txt'), PosixPath('../full_dataset/GoodLabels2/Monilia33.jpg.txt'), PosixPath('../full_dataset/GoodLabels2/Monilia34.jpg.txt'), PosixPath('../full_dataset/GoodLabels2/Monilia35.jpg.txt'), PosixPath('../full_dataset/GoodLabels2/Monilia36.jpg.txt'), PosixPath('../full_dataset/GoodLabels2/Monilia37.jpg.txt'), PosixPath('../full_dataset/GoodLabels2/Monilia38.jpg.txt'), PosixPath('../full_dataset/GoodLabels2/Monilia39.jpg.txt'), PosixPath('../full_dataset/GoodLabels2/Monilia4.jpg.txt'), PosixPath('../full_dataset/GoodLabels2/Monilia40.jpg.txt'), PosixPath('../full_dataset/GoodLabels2/Monilia41.jpg.txt'), PosixPath('../full_dataset/GoodLabels2/Monilia42.jpg.txt'), PosixPath('../full_dataset/GoodLabels2/Monilia43.jpg.txt'), PosixPath('../full_dataset/GoodLabels2/Monilia44.jpg.txt'), PosixPath('../full_dataset/GoodLabels2/Monilia45.jpg.txt'), PosixPath('../full_dataset/GoodLabels2/Monilia46.jpg.txt'), PosixPath('../full_dataset/GoodLabels2/Monilia47.jpg.txt'), PosixPath('../full_dataset/GoodLabels2/Monilia48.jpg.txt'), PosixPath('../full_dataset/GoodLabels2/Monilia49.jpg.txt'), PosixPath('../full_dataset/GoodLabels2/Monilia5.jpg.txt'), PosixPath('../full_dataset/GoodLabels2/Monilia50.jpg.txt'), PosixPath('../full_dataset/GoodLabels2/Monilia51.jpg.txt'), PosixPath('../full_dataset/GoodLabels2/Monilia52.jpg.txt'), PosixPath('../full_dataset/GoodLabels2/Monilia53.jpg.txt'), PosixPath('../full_dataset/GoodLabels2/Monilia54.jpg.txt'), PosixPath('../full_dataset/GoodLabels2/Monilia55.jpg.txt'), PosixPath('../full_dataset/GoodLabels2/Monilia56.jpg.txt'), PosixPath('../full_dataset/GoodLabels2/Monilia57.jpg.txt'), PosixPath('../full_dataset/GoodLabels2/Monilia58.jpg.txt'), PosixPath('../full_dataset/GoodLabels2/Monilia59.jpg.txt'), PosixPath('../full_dataset/GoodLabels2/Monilia6.jpg.txt'), PosixPath('../full_dataset/GoodLabels2/Monilia60.jpg.txt'), PosixPath('../full_dataset/GoodLabels2/Monilia61.jpg.txt'), PosixPath('../full_dataset/GoodLabels2/Monilia62.jpg.txt'), PosixPath('../full_dataset/GoodLabels2/Monilia63.jpg.txt'), PosixPath('../full_dataset/GoodLabels2/Monilia64.jpg.txt'), PosixPath('../full_dataset/GoodLabels2/Monilia65.jpg.txt'), PosixPath('../full_dataset/GoodLabels2/Monilia66.jpg.txt'), PosixPath('../full_dataset/GoodLabels2/Monilia67.jpg.txt'), PosixPath('../full_dataset/GoodLabels2/Monilia68.jpg.txt'), PosixPath('../full_dataset/GoodLabels2/Monilia69.jpg.txt'), PosixPath('../full_dataset/GoodLabels2/Monilia7.jpg.txt'), PosixPath('../full_dataset/GoodLabels2/Monilia70.jpg.txt'), PosixPath('../full_dataset/GoodLabels2/Monilia71.jpg.txt'), PosixPath('../full_dataset/GoodLabels2/Monilia72.jpg.txt'), PosixPath('../full_dataset/GoodLabels2/Monilia73.jpg.txt'), PosixPath('../full_dataset/GoodLabels2/Monilia74.jpg.txt'), PosixPath('../full_dataset/GoodLabels2/Monilia75.jpg.txt'), PosixPath('../full_dataset/GoodLabels2/Monilia76.jpg.txt'), PosixPath('../full_dataset/GoodLabels2/Monilia77.jpg.txt'), PosixPath('../full_dataset/GoodLabels2/Monilia78.jpg.txt'), PosixPath('../full_dataset/GoodLabels2/Monilia79.jpg.txt'), PosixPath('../full_dataset/GoodLabels2/Monilia8.jpg.txt'), PosixPath('../full_dataset/GoodLabels2/Monilia80.jpg.txt'), PosixPath('../full_dataset/GoodLabels2/Monilia81.jpg.txt'), PosixPath('../full_dataset/GoodLabels2/Monilia82.jpg.txt'), PosixPath('../full_dataset/GoodLabels2/Monilia83.jpg.txt'), PosixPath('../full_dataset/GoodLabels2/Monilia84.jpg.txt'), PosixPath('../full_dataset/GoodLabels2/Monilia85.jpg.txt'), PosixPath('../full_dataset/GoodLabels2/Monilia86.jpg.txt'), PosixPath('../full_dataset/GoodLabels2/Monilia87.jpg.txt'), PosixPath('../full_dataset/GoodLabels2/Monilia88.jpg.txt'), PosixPath('../full_dataset/GoodLabels2/Monilia89.jpg.txt'), PosixPath('../full_dataset/GoodLabels2/Monilia9.jpg.txt'), PosixPath('../full_dataset/GoodLabels2/Monilia90.jpg.txt'), PosixPath('../full_dataset/GoodLabels2/Monilia91.jpg.txt'), PosixPath('../full_dataset/GoodLabels2/Monilia92.jpg.txt'), PosixPath('../full_dataset/GoodLabels2/Monilia93.jpg.txt'), PosixPath('../full_dataset/GoodLabels2/Monilia94.jpg.txt'), PosixPath('../full_dataset/GoodLabels2/Monilia95.jpg.txt'), PosixPath('../full_dataset/GoodLabels2/Monilia96.jpg.txt'), PosixPath('../full_dataset/GoodLabels2/Monilia97.jpg.txt'), PosixPath('../full_dataset/GoodLabels2/Monilia98.jpg.txt'), PosixPath('../full_dataset/GoodLabels2/Monilia99.jpg.txt'), PosixPath('../full_dataset/GoodLabels2/Sana1.jpg.txt'), PosixPath('../full_dataset/GoodLabels2/Sana10.jpg.txt'), PosixPath('../full_dataset/GoodLabels2/Sana100.jpg.txt'), PosixPath('../full_dataset/GoodLabels2/Sana11.jpg.txt'), PosixPath('../full_dataset/GoodLabels2/Sana12.jpg.txt'), PosixPath('../full_dataset/GoodLabels2/Sana13.jpg.txt'), PosixPath('../full_dataset/GoodLabels2/Sana14.jpg.txt'), PosixPath('../full_dataset/GoodLabels2/Sana15.jpg.txt'), PosixPath('../full_dataset/GoodLabels2/Sana16.jpg.txt'), PosixPath('../full_dataset/GoodLabels2/Sana17.jpg.txt'), PosixPath('../full_dataset/GoodLabels2/Sana18.jpg.txt'), PosixPath('../full_dataset/GoodLabels2/Sana19.jpg.txt'), PosixPath('../full_dataset/GoodLabels2/Sana2.jpg.txt'), PosixPath('../full_dataset/GoodLabels2/Sana20.jpg.txt'), PosixPath('../full_dataset/GoodLabels2/Sana21.jpg.txt'), PosixPath('../full_dataset/GoodLabels2/Sana22.jpg.txt'), PosixPath('../full_dataset/GoodLabels2/Sana23.jpg.txt'), PosixPath('../full_dataset/GoodLabels2/Sana24.jpg.txt'), PosixPath('../full_dataset/GoodLabels2/Sana25.jpg.txt'), PosixPath('../full_dataset/GoodLabels2/Sana26.jpg.txt'), PosixPath('../full_dataset/GoodLabels2/Sana27.jpg.txt'), PosixPath('../full_dataset/GoodLabels2/Sana28.jpg.txt'), PosixPath('../full_dataset/GoodLabels2/Sana29.jpg.txt'), PosixPath('../full_dataset/GoodLabels2/Sana3.jpg.txt'), PosixPath('../full_dataset/GoodLabels2/Sana30.jpg.txt'), PosixPath('../full_dataset/GoodLabels2/Sana31.jpg.txt'), PosixPath('../full_dataset/GoodLabels2/Sana32.jpg.txt'), PosixPath('../full_dataset/GoodLabels2/Sana33.jpg.txt'), PosixPath('../full_dataset/GoodLabels2/Sana34.jpg.txt'), PosixPath('../full_dataset/GoodLabels2/Sana35.jpg.txt'), PosixPath('../full_dataset/GoodLabels2/Sana36.jpg.txt'), PosixPath('../full_dataset/GoodLabels2/Sana37.jpg.txt'), PosixPath('../full_dataset/GoodLabels2/Sana38.jpg.txt'), PosixPath('../full_dataset/GoodLabels2/Sana39.jpg.txt'), PosixPath('../full_dataset/GoodLabels2/Sana4.jpg.txt'), PosixPath('../full_dataset/GoodLabels2/Sana40.jpg.txt'), PosixPath('../full_dataset/GoodLabels2/Sana41.jpg.txt'), PosixPath('../full_dataset/GoodLabels2/Sana42.jpg.txt'), PosixPath('../full_dataset/GoodLabels2/Sana43.jpg.txt'), PosixPath('../full_dataset/GoodLabels2/Sana44.jpg.txt'), PosixPath('../full_dataset/GoodLabels2/Sana45.jpg.txt'), PosixPath('../full_dataset/GoodLabels2/Sana46.jpg.txt'), PosixPath('../full_dataset/GoodLabels2/Sana47.jpg.txt'), PosixPath('../full_dataset/GoodLabels2/Sana48.jpg.txt'), PosixPath('../full_dataset/GoodLabels2/Sana49.jpg.txt'), PosixPath('../full_dataset/GoodLabels2/Sana5.jpg.txt'), PosixPath('../full_dataset/GoodLabels2/Sana50.jpg.txt'), PosixPath('../full_dataset/GoodLabels2/Sana51.jpg.txt'), PosixPath('../full_dataset/GoodLabels2/Sana52.jpg.txt'), PosixPath('../full_dataset/GoodLabels2/Sana53.jpg.txt'), PosixPath('../full_dataset/GoodLabels2/Sana54.jpg.txt'), PosixPath('../full_dataset/GoodLabels2/Sana55.jpg.txt'), PosixPath('../full_dataset/GoodLabels2/Sana56.jpg.txt'), PosixPath('../full_dataset/GoodLabels2/Sana57.jpg.txt'), PosixPath('../full_dataset/GoodLabels2/Sana58.jpg.txt'), PosixPath('../full_dataset/GoodLabels2/Sana59.jpg.txt'), PosixPath('../full_dataset/GoodLabels2/Sana6.jpg.txt'), PosixPath('../full_dataset/GoodLabels2/Sana60.jpg.txt'), PosixPath('../full_dataset/GoodLabels2/Sana61.jpg.txt'), PosixPath('../full_dataset/GoodLabels2/Sana62.jpg.txt'), PosixPath('../full_dataset/GoodLabels2/Sana63.jpg.txt'), PosixPath('../full_dataset/GoodLabels2/Sana64.jpg.txt'), PosixPath('../full_dataset/GoodLabels2/Sana65.jpg.txt'), PosixPath('../full_dataset/GoodLabels2/Sana66.jpg.txt'), PosixPath('../full_dataset/GoodLabels2/Sana67.jpg.txt'), PosixPath('../full_dataset/GoodLabels2/Sana68.jpg.txt'), PosixPath('../full_dataset/GoodLabels2/Sana69.jpg.txt'), PosixPath('../full_dataset/GoodLabels2/Sana7.jpg.txt'), PosixPath('../full_dataset/GoodLabels2/Sana70.jpg.txt'), PosixPath('../full_dataset/GoodLabels2/Sana71.jpg.txt'), PosixPath('../full_dataset/GoodLabels2/Sana72.jpg.txt'), PosixPath('../full_dataset/GoodLabels2/Sana73.jpg.txt'), PosixPath('../full_dataset/GoodLabels2/Sana74.jpg.txt'), PosixPath('../full_dataset/GoodLabels2/Sana75.jpg.txt'), PosixPath('../full_dataset/GoodLabels2/Sana76.jpg.txt'), PosixPath('../full_dataset/GoodLabels2/Sana77.jpg.txt'), PosixPath('../full_dataset/GoodLabels2/Sana78.jpg.txt'), PosixPath('../full_dataset/GoodLabels2/Sana79.jpg.txt'), PosixPath('../full_dataset/GoodLabels2/Sana8.jpg.txt'), PosixPath('../full_dataset/GoodLabels2/Sana80.jpg.txt'), PosixPath('../full_dataset/GoodLabels2/Sana81.jpg.txt'), PosixPath('../full_dataset/GoodLabels2/Sana82.jpg.txt'), PosixPath('../full_dataset/GoodLabels2/Sana83.jpg.txt'), PosixPath('../full_dataset/GoodLabels2/Sana84.jpg.txt'), PosixPath('../full_dataset/GoodLabels2/Sana85.jpg.txt'), PosixPath('../full_dataset/GoodLabels2/Sana86.jpg.txt'), PosixPath('../full_dataset/GoodLabels2/Sana87.jpg.txt'), PosixPath('../full_dataset/GoodLabels2/Sana88.jpg.txt'), PosixPath('../full_dataset/GoodLabels2/Sana89.jpg.txt'), PosixPath('../full_dataset/GoodLabels2/Sana9.jpg.txt'), PosixPath('../full_dataset/GoodLabels2/Sana90.jpg.txt'), PosixPath('../full_dataset/GoodLabels2/Sana91.jpg.txt'), PosixPath('../full_dataset/GoodLabels2/Sana92.jpg.txt'), PosixPath('../full_dataset/GoodLabels2/Sana93.jpg.txt'), PosixPath('../full_dataset/GoodLabels2/Sana94.jpg.txt'), PosixPath('../full_dataset/GoodLabels2/Sana95.jpg.txt'), PosixPath('../full_dataset/GoodLabels2/Sana96.jpg.txt'), PosixPath('../full_dataset/GoodLabels2/Sana97.jpg.txt'), PosixPath('../full_dataset/GoodLabels2/Sana98.jpg.txt'), PosixPath('../full_dataset/GoodLabels2/Sana99.jpg.txt')]\n"
     ]
    }
   ],
   "source": [
    "print(labels)"
   ]
  },
  {
   "cell_type": "code",
   "execution_count": 27,
   "id": "f7ad127c-b968-431d-8b25-dc837de6ed1f",
   "metadata": {
    "tags": []
   },
   "outputs": [],
   "source": [
    "yaml_file = \"../datasets/cocoa_diseases/cocoa_dataset.yaml\"  # your data YAML with data directories and names dictionary\n",
    "with open(yaml_file, \"r\", encoding=\"utf8\") as y:\n",
    "    classes = yaml.safe_load(y)[\"names\"]\n",
    "cls_idx = sorted(classes.keys())"
   ]
  },
  {
   "cell_type": "code",
   "execution_count": 67,
   "id": "255135b9-72f2-483b-9b3c-f95468d46422",
   "metadata": {
    "tags": []
   },
   "outputs": [],
   "source": [
    "index = [label.stem for label in labels]\n",
    "index=[name.split(\".\")[0] for name in index]\n",
    "\n",
    "# uses base filename as ID (no extension)\n",
    "# Remove the file extension from index\n",
    "#\n",
    "labels_df = pd.DataFrame([], columns=cls_idx, index=index)"
   ]
  },
  {
   "cell_type": "code",
   "execution_count": 57,
   "id": "0ef7add8-3924-40ac-8aa9-a4301664851d",
   "metadata": {
    "tags": []
   },
   "outputs": [
    {
     "name": "stdout",
     "output_type": "stream",
     "text": [
      "312\n"
     ]
    }
   ],
   "source": [
    "print(len(index))"
   ]
  },
  {
   "cell_type": "markdown",
   "id": "89a67c18-e438-4e21-939a-77dea3caca66",
   "metadata": {
    "tags": []
   },
   "source": [
    "## Count the instances of each class-label present in the annotation files."
   ]
  },
  {
   "cell_type": "code",
   "execution_count": 68,
   "id": "ce224bf5-3a04-4eb9-815d-aa01bcafa678",
   "metadata": {
    "tags": []
   },
   "outputs": [],
   "source": [
    "from collections import Counter\n",
    "\n",
    "for label in labels:\n",
    "    stem=label.stem.split(\".\")[0]\n",
    "    lbl_counter = Counter()\n",
    "\n",
    "    with open(label, \"r\") as lf:\n",
    "        lines = lf.readlines()\n",
    "\n",
    "    for line in lines:\n",
    "        # classes for YOLO label uses integer at first position of each line\n",
    "        lbl_counter[int(line.split(\" \")[0])] += 1\n",
    "\n",
    "    labels_df.loc[stem] = lbl_counter\n",
    "\n",
    "labels_df = labels_df.fillna(0.0)  # replace `nan` values with `0.0`"
   ]
  },
  {
   "cell_type": "code",
   "execution_count": 69,
   "id": "2acaafdf-b196-4029-86ad-29e3806c0b46",
   "metadata": {
    "tags": []
   },
   "outputs": [
    {
     "data": {
      "text/html": [
       "<div>\n",
       "<style scoped>\n",
       "    .dataframe tbody tr th:only-of-type {\n",
       "        vertical-align: middle;\n",
       "    }\n",
       "\n",
       "    .dataframe tbody tr th {\n",
       "        vertical-align: top;\n",
       "    }\n",
       "\n",
       "    .dataframe thead th {\n",
       "        text-align: right;\n",
       "    }\n",
       "</style>\n",
       "<table border=\"1\" class=\"dataframe\">\n",
       "  <thead>\n",
       "    <tr style=\"text-align: right;\">\n",
       "      <th></th>\n",
       "      <th>0</th>\n",
       "      <th>1</th>\n",
       "      <th>2</th>\n",
       "    </tr>\n",
       "  </thead>\n",
       "  <tbody>\n",
       "    <tr>\n",
       "      <th>Fito1</th>\n",
       "      <td>3.0</td>\n",
       "      <td>0.0</td>\n",
       "      <td>8.0</td>\n",
       "    </tr>\n",
       "    <tr>\n",
       "      <th>Fito10</th>\n",
       "      <td>1.0</td>\n",
       "      <td>0.0</td>\n",
       "      <td>0.0</td>\n",
       "    </tr>\n",
       "    <tr>\n",
       "      <th>Fito100</th>\n",
       "      <td>1.0</td>\n",
       "      <td>0.0</td>\n",
       "      <td>5.0</td>\n",
       "    </tr>\n",
       "    <tr>\n",
       "      <th>Fito101</th>\n",
       "      <td>1.0</td>\n",
       "      <td>0.0</td>\n",
       "      <td>1.0</td>\n",
       "    </tr>\n",
       "    <tr>\n",
       "      <th>Fito102</th>\n",
       "      <td>1.0</td>\n",
       "      <td>1.0</td>\n",
       "      <td>2.0</td>\n",
       "    </tr>\n",
       "    <tr>\n",
       "      <th>Fito103</th>\n",
       "      <td>1.0</td>\n",
       "      <td>0.0</td>\n",
       "      <td>1.0</td>\n",
       "    </tr>\n",
       "    <tr>\n",
       "      <th>Fito104</th>\n",
       "      <td>1.0</td>\n",
       "      <td>0.0</td>\n",
       "      <td>5.0</td>\n",
       "    </tr>\n",
       "    <tr>\n",
       "      <th>Fito105</th>\n",
       "      <td>1.0</td>\n",
       "      <td>0.0</td>\n",
       "      <td>7.0</td>\n",
       "    </tr>\n",
       "    <tr>\n",
       "      <th>Fito106</th>\n",
       "      <td>2.0</td>\n",
       "      <td>0.0</td>\n",
       "      <td>7.0</td>\n",
       "    </tr>\n",
       "    <tr>\n",
       "      <th>Fito107</th>\n",
       "      <td>1.0</td>\n",
       "      <td>0.0</td>\n",
       "      <td>1.0</td>\n",
       "    </tr>\n",
       "    <tr>\n",
       "      <th>Fito11</th>\n",
       "      <td>1.0</td>\n",
       "      <td>1.0</td>\n",
       "      <td>1.0</td>\n",
       "    </tr>\n",
       "    <tr>\n",
       "      <th>Fito12</th>\n",
       "      <td>1.0</td>\n",
       "      <td>0.0</td>\n",
       "      <td>2.0</td>\n",
       "    </tr>\n",
       "    <tr>\n",
       "      <th>Fito13</th>\n",
       "      <td>1.0</td>\n",
       "      <td>0.0</td>\n",
       "      <td>0.0</td>\n",
       "    </tr>\n",
       "    <tr>\n",
       "      <th>Fito14</th>\n",
       "      <td>1.0</td>\n",
       "      <td>0.0</td>\n",
       "      <td>4.0</td>\n",
       "    </tr>\n",
       "    <tr>\n",
       "      <th>Fito15</th>\n",
       "      <td>1.0</td>\n",
       "      <td>0.0</td>\n",
       "      <td>1.0</td>\n",
       "    </tr>\n",
       "    <tr>\n",
       "      <th>Fito16</th>\n",
       "      <td>1.0</td>\n",
       "      <td>0.0</td>\n",
       "      <td>2.0</td>\n",
       "    </tr>\n",
       "    <tr>\n",
       "      <th>Fito17</th>\n",
       "      <td>1.0</td>\n",
       "      <td>0.0</td>\n",
       "      <td>2.0</td>\n",
       "    </tr>\n",
       "    <tr>\n",
       "      <th>Fito18</th>\n",
       "      <td>1.0</td>\n",
       "      <td>0.0</td>\n",
       "      <td>6.0</td>\n",
       "    </tr>\n",
       "    <tr>\n",
       "      <th>Fito19</th>\n",
       "      <td>1.0</td>\n",
       "      <td>0.0</td>\n",
       "      <td>1.0</td>\n",
       "    </tr>\n",
       "    <tr>\n",
       "      <th>Fito2</th>\n",
       "      <td>1.0</td>\n",
       "      <td>0.0</td>\n",
       "      <td>6.0</td>\n",
       "    </tr>\n",
       "  </tbody>\n",
       "</table>\n",
       "</div>"
      ],
      "text/plain": [
       "           0    1    2\n",
       "Fito1    3.0  0.0  8.0\n",
       "Fito10   1.0  0.0  0.0\n",
       "Fito100  1.0  0.0  5.0\n",
       "Fito101  1.0  0.0  1.0\n",
       "Fito102  1.0  1.0  2.0\n",
       "Fito103  1.0  0.0  1.0\n",
       "Fito104  1.0  0.0  5.0\n",
       "Fito105  1.0  0.0  7.0\n",
       "Fito106  2.0  0.0  7.0\n",
       "Fito107  1.0  0.0  1.0\n",
       "Fito11   1.0  1.0  1.0\n",
       "Fito12   1.0  0.0  2.0\n",
       "Fito13   1.0  0.0  0.0\n",
       "Fito14   1.0  0.0  4.0\n",
       "Fito15   1.0  0.0  1.0\n",
       "Fito16   1.0  0.0  2.0\n",
       "Fito17   1.0  0.0  2.0\n",
       "Fito18   1.0  0.0  6.0\n",
       "Fito19   1.0  0.0  1.0\n",
       "Fito2    1.0  0.0  6.0"
      ]
     },
     "execution_count": 69,
     "metadata": {},
     "output_type": "execute_result"
    }
   ],
   "source": [
    "labels_df.head(20)"
   ]
  },
  {
   "cell_type": "code",
   "execution_count": 70,
   "id": "d4af5e2f-2904-4e1b-8405-547c214b2b6f",
   "metadata": {
    "tags": []
   },
   "outputs": [],
   "source": [
    "ksplit = 5\n",
    "kf = KFold(n_splits=ksplit, shuffle=True, random_state=20)  # setting random_state for repeatable results\n",
    "\n",
    "kfolds = list(kf.split(labels_df))"
   ]
  },
  {
   "cell_type": "markdown",
   "id": "9378132e-f5f2-4be3-982d-b635a92b0866",
   "metadata": {
    "tags": []
   },
   "source": [
    "## The dataset has now been split into k folds, each having a list of train and val indices. We will construct a DataFrame to display these results more clearly."
   ]
  },
  {
   "cell_type": "code",
   "execution_count": 71,
   "id": "9074c0e8-8bb5-4ae6-8a91-7d264421fe1b",
   "metadata": {
    "tags": []
   },
   "outputs": [],
   "source": [
    "folds = [f\"split_{n}\" for n in range(1, ksplit + 1)]\n",
    "folds_df = pd.DataFrame(index=index, columns=folds)\n",
    "\n",
    "for i, (train, val) in enumerate(kfolds, start=1):\n",
    "    folds_df[f\"split_{i}\"].loc[labels_df.iloc[train].index] = \"train\"\n",
    "    folds_df[f\"split_{i}\"].loc[labels_df.iloc[val].index] = \"val\""
   ]
  },
  {
   "cell_type": "code",
   "execution_count": 72,
   "id": "d925539b-5216-4d19-a119-006871690880",
   "metadata": {
    "tags": []
   },
   "outputs": [],
   "source": [
    " \n",
    "\n",
    "# Create folds_df with modified index\n",
    "folds = [f\"split_{n}\" for n in range(1, ksplit + 1)]\n",
    "folds_df = pd.DataFrame(index=index, columns=folds)\n",
    "\n",
    "for i, (train, val) in enumerate(kfolds, start=1):\n",
    "    folds_df[f\"split_{i}\"].loc[labels_df.iloc[train].index.str.replace(r'\\.\\w+$', '', regex=True)] = \"train\"\n",
    "    folds_df[f\"split_{i}\"].loc[labels_df.iloc[val].index.str.replace(r'\\.\\w+$', '', regex=True)] = \"val\"\n"
   ]
  },
  {
   "cell_type": "code",
   "execution_count": 73,
   "id": "cd586cf9-5b3e-4d2e-bf4e-70d1429bd8d7",
   "metadata": {
    "tags": []
   },
   "outputs": [
    {
     "data": {
      "text/html": [
       "<div>\n",
       "<style scoped>\n",
       "    .dataframe tbody tr th:only-of-type {\n",
       "        vertical-align: middle;\n",
       "    }\n",
       "\n",
       "    .dataframe tbody tr th {\n",
       "        vertical-align: top;\n",
       "    }\n",
       "\n",
       "    .dataframe thead th {\n",
       "        text-align: right;\n",
       "    }\n",
       "</style>\n",
       "<table border=\"1\" class=\"dataframe\">\n",
       "  <thead>\n",
       "    <tr style=\"text-align: right;\">\n",
       "      <th></th>\n",
       "      <th>split_1</th>\n",
       "      <th>split_2</th>\n",
       "      <th>split_3</th>\n",
       "      <th>split_4</th>\n",
       "      <th>split_5</th>\n",
       "    </tr>\n",
       "  </thead>\n",
       "  <tbody>\n",
       "    <tr>\n",
       "      <th>Fito1</th>\n",
       "      <td>val</td>\n",
       "      <td>train</td>\n",
       "      <td>train</td>\n",
       "      <td>train</td>\n",
       "      <td>train</td>\n",
       "    </tr>\n",
       "    <tr>\n",
       "      <th>Fito10</th>\n",
       "      <td>train</td>\n",
       "      <td>val</td>\n",
       "      <td>train</td>\n",
       "      <td>train</td>\n",
       "      <td>train</td>\n",
       "    </tr>\n",
       "    <tr>\n",
       "      <th>Fito100</th>\n",
       "      <td>train</td>\n",
       "      <td>train</td>\n",
       "      <td>val</td>\n",
       "      <td>train</td>\n",
       "      <td>train</td>\n",
       "    </tr>\n",
       "    <tr>\n",
       "      <th>Fito101</th>\n",
       "      <td>train</td>\n",
       "      <td>train</td>\n",
       "      <td>train</td>\n",
       "      <td>train</td>\n",
       "      <td>val</td>\n",
       "    </tr>\n",
       "    <tr>\n",
       "      <th>Fito102</th>\n",
       "      <td>train</td>\n",
       "      <td>train</td>\n",
       "      <td>train</td>\n",
       "      <td>train</td>\n",
       "      <td>val</td>\n",
       "    </tr>\n",
       "  </tbody>\n",
       "</table>\n",
       "</div>"
      ],
      "text/plain": [
       "        split_1 split_2 split_3 split_4 split_5\n",
       "Fito1       val   train   train   train   train\n",
       "Fito10    train     val   train   train   train\n",
       "Fito100   train   train     val   train   train\n",
       "Fito101   train   train   train   train     val\n",
       "Fito102   train   train   train   train     val"
      ]
     },
     "execution_count": 73,
     "metadata": {},
     "output_type": "execute_result"
    }
   ],
   "source": [
    "folds_df.head()"
   ]
  },
  {
   "cell_type": "markdown",
   "id": "fd7931cc-a897-4712-99d9-4d6851c169c3",
   "metadata": {},
   "source": [
    "## Now we will calculate the distribution of class labels for each fold as a ratio of the classes present in val to those present in train."
   ]
  },
  {
   "cell_type": "code",
   "execution_count": 74,
   "id": "0f9f6bf8-c286-4481-832f-3c80eb77caae",
   "metadata": {
    "tags": []
   },
   "outputs": [],
   "source": [
    "fold_lbl_distrb = pd.DataFrame(index=folds, columns=cls_idx)\n",
    "\n",
    "for n, (train_indices, val_indices) in enumerate(kfolds, start=1):\n",
    "    train_totals = labels_df.iloc[train_indices].sum()\n",
    "    val_totals = labels_df.iloc[val_indices].sum()\n",
    "\n",
    "    # To avoid division by zero, we add a small value (1E-7) to the denominator\n",
    "    ratio = val_totals / (train_totals + 1e-7)\n",
    "    fold_lbl_distrb.loc[f\"split_{n}\"] = ratio"
   ]
  },
  {
   "cell_type": "code",
   "execution_count": 75,
   "id": "ae3515aa-9d5e-4f85-9808-7cfee907a4ed",
   "metadata": {
    "tags": []
   },
   "outputs": [
    {
     "data": {
      "text/html": [
       "<div>\n",
       "<style scoped>\n",
       "    .dataframe tbody tr th:only-of-type {\n",
       "        vertical-align: middle;\n",
       "    }\n",
       "\n",
       "    .dataframe tbody tr th {\n",
       "        vertical-align: top;\n",
       "    }\n",
       "\n",
       "    .dataframe thead th {\n",
       "        text-align: right;\n",
       "    }\n",
       "</style>\n",
       "<table border=\"1\" class=\"dataframe\">\n",
       "  <thead>\n",
       "    <tr style=\"text-align: right;\">\n",
       "      <th></th>\n",
       "      <th>0</th>\n",
       "      <th>1</th>\n",
       "      <th>2</th>\n",
       "    </tr>\n",
       "  </thead>\n",
       "  <tbody>\n",
       "    <tr>\n",
       "      <th>split_1</th>\n",
       "      <td>0.227027</td>\n",
       "      <td>0.27193</td>\n",
       "      <td>0.269792</td>\n",
       "    </tr>\n",
       "    <tr>\n",
       "      <th>split_2</th>\n",
       "      <td>0.304598</td>\n",
       "      <td>0.239316</td>\n",
       "      <td>0.203356</td>\n",
       "    </tr>\n",
       "    <tr>\n",
       "      <th>split_3</th>\n",
       "      <td>0.304598</td>\n",
       "      <td>0.228814</td>\n",
       "      <td>0.24261</td>\n",
       "    </tr>\n",
       "    <tr>\n",
       "      <th>split_4</th>\n",
       "      <td>0.207447</td>\n",
       "      <td>0.27193</td>\n",
       "      <td>0.196271</td>\n",
       "    </tr>\n",
       "    <tr>\n",
       "      <th>split_5</th>\n",
       "      <td>0.213904</td>\n",
       "      <td>0.239316</td>\n",
       "      <td>0.349945</td>\n",
       "    </tr>\n",
       "  </tbody>\n",
       "</table>\n",
       "</div>"
      ],
      "text/plain": [
       "                0         1         2\n",
       "split_1  0.227027   0.27193  0.269792\n",
       "split_2  0.304598  0.239316  0.203356\n",
       "split_3  0.304598  0.228814   0.24261\n",
       "split_4  0.207447   0.27193  0.196271\n",
       "split_5  0.213904  0.239316  0.349945"
      ]
     },
     "execution_count": 75,
     "metadata": {},
     "output_type": "execute_result"
    }
   ],
   "source": [
    "fold_lbl_distrb"
   ]
  },
  {
   "cell_type": "markdown",
   "id": "8f883d2c-0beb-463f-9e3a-49de8a59c232",
   "metadata": {
    "tags": []
   },
   "source": [
    "## Next, we create the directories and dataset YAML files for each split."
   ]
  },
  {
   "cell_type": "code",
   "execution_count": 38,
   "id": "8f54c927-7161-4b1c-b09d-101be949cc34",
   "metadata": {
    "tags": []
   },
   "outputs": [],
   "source": [
    "import datetime\n",
    "\n",
    "supported_extensions = [\".jpg\", \".jpeg\", \".png\"]\n",
    "\n",
    "# Initialize an empty list to store image file paths\n",
    "images = []\n",
    "kfold_dataset_path=Path(\"../kfold_datasets\")\n",
    "\n",
    "# Loop through supported extensions and gather image files\n",
    "for ext in supported_extensions:\n",
    "    images.extend(\n",
    "        sorted(\n",
    "            f for f in (dataset_path / \"img\").rglob(f\"*{ext}\")\n",
    "            if \".ipynb_checkpoints\" not in f.parts  # Exclude checkpoint files\n",
    "        )\n",
    "    )\n",
    "\n",
    "# Create the necessary directories and dataset YAML files (unchanged)\n",
    "save_path = Path(kfold_dataset_path / f\"{datetime.date.today().isoformat()}_{ksplit}-Fold_Cross-val\")\n",
    "save_path.mkdir(parents=True, exist_ok=True)\n",
    "ds_yamls = []\n",
    "\n",
    "for split in folds_df.columns:\n",
    "    # Create directories\n",
    "    split_dir = save_path / split\n",
    "    split_dir.mkdir(parents=True, exist_ok=True)\n",
    "    (split_dir / \"train\" / \"images\").mkdir(parents=True, exist_ok=True)\n",
    "    (split_dir / \"train\" / \"labels\").mkdir(parents=True, exist_ok=True)\n",
    "    (split_dir / \"val\" / \"images\").mkdir(parents=True, exist_ok=True)\n",
    "    (split_dir / \"val\" / \"labels\").mkdir(parents=True, exist_ok=True)\n",
    "\n",
    "    # Create dataset YAML files\n",
    "    dataset_yaml = split_dir / f\"{split}_dataset.yaml\"\n",
    "    ds_yamls.append(dataset_yaml)\n",
    "\n",
    "    with open(dataset_yaml, \"w\") as ds_y:\n",
    "        yaml.safe_dump(\n",
    "            {\n",
    "                \"path\": split_dir.as_posix(),\n",
    "                \"train\": \"train\",\n",
    "                \"val\": \"val\",\n",
    "                \"names\": classes,\n",
    "            },\n",
    "            ds_y,\n",
    "        )"
   ]
  },
  {
   "cell_type": "code",
   "execution_count": 42,
   "id": "0f56a419-e7b3-4da2-8f53-147959d1f839",
   "metadata": {
    "collapsed": true,
    "jupyter": {
     "outputs_hidden": true
    },
    "tags": []
   },
   "outputs": [
    {
     "name": "stdout",
     "output_type": "stream",
     "text": [
      "[PosixPath('../full_dataset/img/Fito1.jpg'), PosixPath('../full_dataset/img/Fito10.jpg'), PosixPath('../full_dataset/img/Fito100.jpg'), PosixPath('../full_dataset/img/Fito101.jpg'), PosixPath('../full_dataset/img/Fito102.jpg'), PosixPath('../full_dataset/img/Fito103.jpg'), PosixPath('../full_dataset/img/Fito104.jpg'), PosixPath('../full_dataset/img/Fito105.jpg'), PosixPath('../full_dataset/img/Fito106.jpg'), PosixPath('../full_dataset/img/Fito107.jpg'), PosixPath('../full_dataset/img/Fito11.jpg'), PosixPath('../full_dataset/img/Fito12.jpg'), PosixPath('../full_dataset/img/Fito13.jpg'), PosixPath('../full_dataset/img/Fito14.jpg'), PosixPath('../full_dataset/img/Fito15.jpg'), PosixPath('../full_dataset/img/Fito16.jpg'), PosixPath('../full_dataset/img/Fito17.jpg'), PosixPath('../full_dataset/img/Fito18.jpg'), PosixPath('../full_dataset/img/Fito19.jpg'), PosixPath('../full_dataset/img/Fito2.jpg'), PosixPath('../full_dataset/img/Fito20.jpg'), PosixPath('../full_dataset/img/Fito21.jpg'), PosixPath('../full_dataset/img/Fito22.jpg'), PosixPath('../full_dataset/img/Fito23.jpg'), PosixPath('../full_dataset/img/Fito24.jpg'), PosixPath('../full_dataset/img/Fito25.jpg'), PosixPath('../full_dataset/img/Fito26.jpg'), PosixPath('../full_dataset/img/Fito27.jpg'), PosixPath('../full_dataset/img/Fito28.jpg'), PosixPath('../full_dataset/img/Fito29.jpg'), PosixPath('../full_dataset/img/Fito3.jpg'), PosixPath('../full_dataset/img/Fito30.jpg'), PosixPath('../full_dataset/img/Fito31.jpg'), PosixPath('../full_dataset/img/Fito32.jpg'), PosixPath('../full_dataset/img/Fito33.jpg'), PosixPath('../full_dataset/img/Fito34.jpg'), PosixPath('../full_dataset/img/Fito35.jpg'), PosixPath('../full_dataset/img/Fito36.jpg'), PosixPath('../full_dataset/img/Fito37.jpg'), PosixPath('../full_dataset/img/Fito38.jpg'), PosixPath('../full_dataset/img/Fito39.jpg'), PosixPath('../full_dataset/img/Fito4.jpg'), PosixPath('../full_dataset/img/Fito40.jpg'), PosixPath('../full_dataset/img/Fito41.jpg'), PosixPath('../full_dataset/img/Fito42.jpg'), PosixPath('../full_dataset/img/Fito43.jpg'), PosixPath('../full_dataset/img/Fito44.jpg'), PosixPath('../full_dataset/img/Fito45.jpg'), PosixPath('../full_dataset/img/Fito46.jpg'), PosixPath('../full_dataset/img/Fito47.jpg'), PosixPath('../full_dataset/img/Fito48.jpg'), PosixPath('../full_dataset/img/Fito49.jpg'), PosixPath('../full_dataset/img/Fito5.jpg'), PosixPath('../full_dataset/img/Fito50.jpg'), PosixPath('../full_dataset/img/Fito51.jpg'), PosixPath('../full_dataset/img/Fito52.jpg'), PosixPath('../full_dataset/img/Fito53.jpg'), PosixPath('../full_dataset/img/Fito54.jpg'), PosixPath('../full_dataset/img/Fito55.jpg'), PosixPath('../full_dataset/img/Fito56.jpg'), PosixPath('../full_dataset/img/Fito57.jpg'), PosixPath('../full_dataset/img/Fito58.jpg'), PosixPath('../full_dataset/img/Fito59.jpg'), PosixPath('../full_dataset/img/Fito6.jpg'), PosixPath('../full_dataset/img/Fito60.jpg'), PosixPath('../full_dataset/img/Fito61.jpg'), PosixPath('../full_dataset/img/Fito62.jpg'), PosixPath('../full_dataset/img/Fito63.jpg'), PosixPath('../full_dataset/img/Fito64.jpg'), PosixPath('../full_dataset/img/Fito65.jpg'), PosixPath('../full_dataset/img/Fito66.jpg'), PosixPath('../full_dataset/img/Fito67.jpg'), PosixPath('../full_dataset/img/Fito68.jpg'), PosixPath('../full_dataset/img/Fito69.jpg'), PosixPath('../full_dataset/img/Fito7.jpg'), PosixPath('../full_dataset/img/Fito70.jpg'), PosixPath('../full_dataset/img/Fito71.jpg'), PosixPath('../full_dataset/img/Fito72.jpg'), PosixPath('../full_dataset/img/Fito73.jpg'), PosixPath('../full_dataset/img/Fito74.jpg'), PosixPath('../full_dataset/img/Fito75.jpg'), PosixPath('../full_dataset/img/Fito76.jpg'), PosixPath('../full_dataset/img/Fito77.jpg'), PosixPath('../full_dataset/img/Fito78.jpg'), PosixPath('../full_dataset/img/Fito79.jpg'), PosixPath('../full_dataset/img/Fito8.jpg'), PosixPath('../full_dataset/img/Fito80.jpg'), PosixPath('../full_dataset/img/Fito81.jpg'), PosixPath('../full_dataset/img/Fito82.jpg'), PosixPath('../full_dataset/img/Fito83.jpg'), PosixPath('../full_dataset/img/Fito84.jpg'), PosixPath('../full_dataset/img/Fito85.jpg'), PosixPath('../full_dataset/img/Fito86.jpg'), PosixPath('../full_dataset/img/Fito87.jpg'), PosixPath('../full_dataset/img/Fito88.jpg'), PosixPath('../full_dataset/img/Fito89.jpg'), PosixPath('../full_dataset/img/Fito9.jpg'), PosixPath('../full_dataset/img/Fito90.jpg'), PosixPath('../full_dataset/img/Fito91.jpg'), PosixPath('../full_dataset/img/Fito92.jpg'), PosixPath('../full_dataset/img/Fito93.jpg'), PosixPath('../full_dataset/img/Fito94.jpg'), PosixPath('../full_dataset/img/Fito95.jpg'), PosixPath('../full_dataset/img/Fito96.jpg'), PosixPath('../full_dataset/img/Fito97.jpg'), PosixPath('../full_dataset/img/Fito98.jpg'), PosixPath('../full_dataset/img/Fito99.jpg'), PosixPath('../full_dataset/img/Monilia1.jpg'), PosixPath('../full_dataset/img/Monilia10.jpg'), PosixPath('../full_dataset/img/Monilia100.jpg'), PosixPath('../full_dataset/img/Monilia101.jpg'), PosixPath('../full_dataset/img/Monilia102.jpg'), PosixPath('../full_dataset/img/Monilia103.jpg'), PosixPath('../full_dataset/img/Monilia104.jpg'), PosixPath('../full_dataset/img/Monilia105.jpg'), PosixPath('../full_dataset/img/Monilia11.jpg'), PosixPath('../full_dataset/img/Monilia12.jpg'), PosixPath('../full_dataset/img/Monilia13.jpg'), PosixPath('../full_dataset/img/Monilia14.jpg'), PosixPath('../full_dataset/img/Monilia15.jpg'), PosixPath('../full_dataset/img/Monilia16.jpg'), PosixPath('../full_dataset/img/Monilia17.jpg'), PosixPath('../full_dataset/img/Monilia18.jpg'), PosixPath('../full_dataset/img/Monilia19.jpg'), PosixPath('../full_dataset/img/Monilia2.jpg'), PosixPath('../full_dataset/img/Monilia20.jpg'), PosixPath('../full_dataset/img/Monilia21.jpg'), PosixPath('../full_dataset/img/Monilia22.jpg'), PosixPath('../full_dataset/img/Monilia23.jpg'), PosixPath('../full_dataset/img/Monilia24.jpg'), PosixPath('../full_dataset/img/Monilia25.jpg'), PosixPath('../full_dataset/img/Monilia26.jpg'), PosixPath('../full_dataset/img/Monilia27.jpg'), PosixPath('../full_dataset/img/Monilia28.jpg'), PosixPath('../full_dataset/img/Monilia29.jpg'), PosixPath('../full_dataset/img/Monilia3.jpg'), PosixPath('../full_dataset/img/Monilia30.jpg'), PosixPath('../full_dataset/img/Monilia31.jpg'), PosixPath('../full_dataset/img/Monilia32.jpg'), PosixPath('../full_dataset/img/Monilia33.jpg'), PosixPath('../full_dataset/img/Monilia34.jpg'), PosixPath('../full_dataset/img/Monilia35.jpg'), PosixPath('../full_dataset/img/Monilia36.jpg'), PosixPath('../full_dataset/img/Monilia37.jpg'), PosixPath('../full_dataset/img/Monilia38.jpg'), PosixPath('../full_dataset/img/Monilia39.jpg'), PosixPath('../full_dataset/img/Monilia4.jpg'), PosixPath('../full_dataset/img/Monilia40.jpg'), PosixPath('../full_dataset/img/Monilia41.jpg'), PosixPath('../full_dataset/img/Monilia42.jpg'), PosixPath('../full_dataset/img/Monilia43.jpg'), PosixPath('../full_dataset/img/Monilia44.jpg'), PosixPath('../full_dataset/img/Monilia45.jpg'), PosixPath('../full_dataset/img/Monilia46.jpg'), PosixPath('../full_dataset/img/Monilia47.jpg'), PosixPath('../full_dataset/img/Monilia48.jpg'), PosixPath('../full_dataset/img/Monilia49.jpg'), PosixPath('../full_dataset/img/Monilia5.jpg'), PosixPath('../full_dataset/img/Monilia50.jpg'), PosixPath('../full_dataset/img/Monilia51.jpg'), PosixPath('../full_dataset/img/Monilia52.jpg'), PosixPath('../full_dataset/img/Monilia53.jpg'), PosixPath('../full_dataset/img/Monilia54.jpg'), PosixPath('../full_dataset/img/Monilia55.jpg'), PosixPath('../full_dataset/img/Monilia56.jpg'), PosixPath('../full_dataset/img/Monilia57.jpg'), PosixPath('../full_dataset/img/Monilia58.jpg'), PosixPath('../full_dataset/img/Monilia59.jpg'), PosixPath('../full_dataset/img/Monilia6.jpg'), PosixPath('../full_dataset/img/Monilia60.jpg'), PosixPath('../full_dataset/img/Monilia61.jpg'), PosixPath('../full_dataset/img/Monilia62.jpg'), PosixPath('../full_dataset/img/Monilia63.jpg'), PosixPath('../full_dataset/img/Monilia64.jpg'), PosixPath('../full_dataset/img/Monilia65.jpg'), PosixPath('../full_dataset/img/Monilia66.jpg'), PosixPath('../full_dataset/img/Monilia67.jpg'), PosixPath('../full_dataset/img/Monilia68.jpg'), PosixPath('../full_dataset/img/Monilia69.jpg'), PosixPath('../full_dataset/img/Monilia7.jpg'), PosixPath('../full_dataset/img/Monilia70.jpg'), PosixPath('../full_dataset/img/Monilia71.jpg'), PosixPath('../full_dataset/img/Monilia72.jpg'), PosixPath('../full_dataset/img/Monilia73.jpg'), PosixPath('../full_dataset/img/Monilia74.jpg'), PosixPath('../full_dataset/img/Monilia75.jpg'), PosixPath('../full_dataset/img/Monilia76.jpg'), PosixPath('../full_dataset/img/Monilia77.jpg'), PosixPath('../full_dataset/img/Monilia78.jpg'), PosixPath('../full_dataset/img/Monilia79.jpg'), PosixPath('../full_dataset/img/Monilia8.jpg'), PosixPath('../full_dataset/img/Monilia80.jpg'), PosixPath('../full_dataset/img/Monilia81.jpg'), PosixPath('../full_dataset/img/Monilia82.jpg'), PosixPath('../full_dataset/img/Monilia83.jpg'), PosixPath('../full_dataset/img/Monilia84.jpg'), PosixPath('../full_dataset/img/Monilia85.jpg'), PosixPath('../full_dataset/img/Monilia86.jpg'), PosixPath('../full_dataset/img/Monilia87.jpg'), PosixPath('../full_dataset/img/Monilia88.jpg'), PosixPath('../full_dataset/img/Monilia89.jpg'), PosixPath('../full_dataset/img/Monilia9.jpg'), PosixPath('../full_dataset/img/Monilia90.jpg'), PosixPath('../full_dataset/img/Monilia91.jpg'), PosixPath('../full_dataset/img/Monilia92.jpg'), PosixPath('../full_dataset/img/Monilia93.jpg'), PosixPath('../full_dataset/img/Monilia94.jpg'), PosixPath('../full_dataset/img/Monilia95.jpg'), PosixPath('../full_dataset/img/Monilia96.jpg'), PosixPath('../full_dataset/img/Monilia97.jpg'), PosixPath('../full_dataset/img/Monilia98.jpg'), PosixPath('../full_dataset/img/Monilia99.jpg'), PosixPath('../full_dataset/img/Sana1.jpg'), PosixPath('../full_dataset/img/Sana10.jpg'), PosixPath('../full_dataset/img/Sana100.jpg'), PosixPath('../full_dataset/img/Sana11.jpg'), PosixPath('../full_dataset/img/Sana12.jpg'), PosixPath('../full_dataset/img/Sana13.jpg'), PosixPath('../full_dataset/img/Sana14.jpg'), PosixPath('../full_dataset/img/Sana15.jpg'), PosixPath('../full_dataset/img/Sana16.jpg'), PosixPath('../full_dataset/img/Sana17.jpg'), PosixPath('../full_dataset/img/Sana18.jpg'), PosixPath('../full_dataset/img/Sana19.jpg'), PosixPath('../full_dataset/img/Sana2.jpg'), PosixPath('../full_dataset/img/Sana20.jpg'), PosixPath('../full_dataset/img/Sana21.jpg'), PosixPath('../full_dataset/img/Sana22.jpg'), PosixPath('../full_dataset/img/Sana23.jpg'), PosixPath('../full_dataset/img/Sana24.jpg'), PosixPath('../full_dataset/img/Sana25.jpg'), PosixPath('../full_dataset/img/Sana26.jpg'), PosixPath('../full_dataset/img/Sana27.jpg'), PosixPath('../full_dataset/img/Sana28.jpg'), PosixPath('../full_dataset/img/Sana29.jpg'), PosixPath('../full_dataset/img/Sana3.jpg'), PosixPath('../full_dataset/img/Sana30.jpg'), PosixPath('../full_dataset/img/Sana31.jpg'), PosixPath('../full_dataset/img/Sana32.jpg'), PosixPath('../full_dataset/img/Sana33.jpg'), PosixPath('../full_dataset/img/Sana34.jpg'), PosixPath('../full_dataset/img/Sana35.jpg'), PosixPath('../full_dataset/img/Sana36.jpg'), PosixPath('../full_dataset/img/Sana37.jpg'), PosixPath('../full_dataset/img/Sana38.jpg'), PosixPath('../full_dataset/img/Sana39.jpg'), PosixPath('../full_dataset/img/Sana4.jpg'), PosixPath('../full_dataset/img/Sana40.jpg'), PosixPath('../full_dataset/img/Sana41.jpg'), PosixPath('../full_dataset/img/Sana42.jpg'), PosixPath('../full_dataset/img/Sana43.jpg'), PosixPath('../full_dataset/img/Sana44.jpg'), PosixPath('../full_dataset/img/Sana45.jpg'), PosixPath('../full_dataset/img/Sana46.jpg'), PosixPath('../full_dataset/img/Sana47.jpg'), PosixPath('../full_dataset/img/Sana48.jpg'), PosixPath('../full_dataset/img/Sana49.jpg'), PosixPath('../full_dataset/img/Sana5.jpg'), PosixPath('../full_dataset/img/Sana50.jpg'), PosixPath('../full_dataset/img/Sana51.jpg'), PosixPath('../full_dataset/img/Sana52.jpg'), PosixPath('../full_dataset/img/Sana53.jpg'), PosixPath('../full_dataset/img/Sana54.jpg'), PosixPath('../full_dataset/img/Sana55.jpg'), PosixPath('../full_dataset/img/Sana56.jpg'), PosixPath('../full_dataset/img/Sana57.jpg'), PosixPath('../full_dataset/img/Sana58.jpg'), PosixPath('../full_dataset/img/Sana59.jpg'), PosixPath('../full_dataset/img/Sana6.jpg'), PosixPath('../full_dataset/img/Sana60.jpg'), PosixPath('../full_dataset/img/Sana61.jpg'), PosixPath('../full_dataset/img/Sana62.jpg'), PosixPath('../full_dataset/img/Sana63.jpg'), PosixPath('../full_dataset/img/Sana64.jpg'), PosixPath('../full_dataset/img/Sana65.jpg'), PosixPath('../full_dataset/img/Sana66.jpg'), PosixPath('../full_dataset/img/Sana67.jpg'), PosixPath('../full_dataset/img/Sana68.jpg'), PosixPath('../full_dataset/img/Sana69.jpg'), PosixPath('../full_dataset/img/Sana7.jpg'), PosixPath('../full_dataset/img/Sana70.jpg'), PosixPath('../full_dataset/img/Sana71.jpg'), PosixPath('../full_dataset/img/Sana72.jpg'), PosixPath('../full_dataset/img/Sana73.jpg'), PosixPath('../full_dataset/img/Sana74.jpg'), PosixPath('../full_dataset/img/Sana75.jpg'), PosixPath('../full_dataset/img/Sana76.jpg'), PosixPath('../full_dataset/img/Sana77.jpg'), PosixPath('../full_dataset/img/Sana78.jpg'), PosixPath('../full_dataset/img/Sana79.jpg'), PosixPath('../full_dataset/img/Sana8.jpg'), PosixPath('../full_dataset/img/Sana80.jpg'), PosixPath('../full_dataset/img/Sana81.jpg'), PosixPath('../full_dataset/img/Sana82.jpg'), PosixPath('../full_dataset/img/Sana83.jpg'), PosixPath('../full_dataset/img/Sana84.jpg'), PosixPath('../full_dataset/img/Sana85.jpg'), PosixPath('../full_dataset/img/Sana86.jpg'), PosixPath('../full_dataset/img/Sana87.jpg'), PosixPath('../full_dataset/img/Sana88.jpg'), PosixPath('../full_dataset/img/Sana89.jpg'), PosixPath('../full_dataset/img/Sana9.jpg'), PosixPath('../full_dataset/img/Sana90.jpg'), PosixPath('../full_dataset/img/Sana91.jpg'), PosixPath('../full_dataset/img/Sana92.jpg'), PosixPath('../full_dataset/img/Sana93.jpg'), PosixPath('../full_dataset/img/Sana94.jpg'), PosixPath('../full_dataset/img/Sana95.jpg'), PosixPath('../full_dataset/img/Sana96.jpg'), PosixPath('../full_dataset/img/Sana97.jpg'), PosixPath('../full_dataset/img/Sana98.jpg'), PosixPath('../full_dataset/img/Sana99.jpg')]\n"
     ]
    }
   ],
   "source": [
    "print(images) "
   ]
  },
  {
   "cell_type": "code",
   "execution_count": 47,
   "id": "e0148624-2e6b-4c71-b26d-ab59ab7333c7",
   "metadata": {
    "tags": []
   },
   "outputs": [
    {
     "data": {
      "text/html": [
       "<div>\n",
       "<style scoped>\n",
       "    .dataframe tbody tr th:only-of-type {\n",
       "        vertical-align: middle;\n",
       "    }\n",
       "\n",
       "    .dataframe tbody tr th {\n",
       "        vertical-align: top;\n",
       "    }\n",
       "\n",
       "    .dataframe thead th {\n",
       "        text-align: right;\n",
       "    }\n",
       "</style>\n",
       "<table border=\"1\" class=\"dataframe\">\n",
       "  <thead>\n",
       "    <tr style=\"text-align: right;\">\n",
       "      <th></th>\n",
       "      <th>split_1</th>\n",
       "      <th>split_2</th>\n",
       "      <th>split_3</th>\n",
       "      <th>split_4</th>\n",
       "      <th>split_5</th>\n",
       "    </tr>\n",
       "  </thead>\n",
       "  <tbody>\n",
       "    <tr>\n",
       "      <th>fito1.jpg</th>\n",
       "      <td>val</td>\n",
       "      <td>train</td>\n",
       "      <td>train</td>\n",
       "      <td>train</td>\n",
       "      <td>train</td>\n",
       "    </tr>\n",
       "    <tr>\n",
       "      <th>fito10.jpg</th>\n",
       "      <td>train</td>\n",
       "      <td>val</td>\n",
       "      <td>train</td>\n",
       "      <td>train</td>\n",
       "      <td>train</td>\n",
       "    </tr>\n",
       "    <tr>\n",
       "      <th>fito100.jpg</th>\n",
       "      <td>train</td>\n",
       "      <td>train</td>\n",
       "      <td>val</td>\n",
       "      <td>train</td>\n",
       "      <td>train</td>\n",
       "    </tr>\n",
       "    <tr>\n",
       "      <th>fito101.jpg</th>\n",
       "      <td>train</td>\n",
       "      <td>train</td>\n",
       "      <td>train</td>\n",
       "      <td>train</td>\n",
       "      <td>val</td>\n",
       "    </tr>\n",
       "    <tr>\n",
       "      <th>fito102.jpg</th>\n",
       "      <td>train</td>\n",
       "      <td>train</td>\n",
       "      <td>train</td>\n",
       "      <td>train</td>\n",
       "      <td>val</td>\n",
       "    </tr>\n",
       "    <tr>\n",
       "      <th>...</th>\n",
       "      <td>...</td>\n",
       "      <td>...</td>\n",
       "      <td>...</td>\n",
       "      <td>...</td>\n",
       "      <td>...</td>\n",
       "    </tr>\n",
       "    <tr>\n",
       "      <th>sana95.jpg</th>\n",
       "      <td>train</td>\n",
       "      <td>val</td>\n",
       "      <td>train</td>\n",
       "      <td>train</td>\n",
       "      <td>train</td>\n",
       "    </tr>\n",
       "    <tr>\n",
       "      <th>sana96.jpg</th>\n",
       "      <td>train</td>\n",
       "      <td>train</td>\n",
       "      <td>train</td>\n",
       "      <td>val</td>\n",
       "      <td>train</td>\n",
       "    </tr>\n",
       "    <tr>\n",
       "      <th>sana97.jpg</th>\n",
       "      <td>train</td>\n",
       "      <td>train</td>\n",
       "      <td>train</td>\n",
       "      <td>val</td>\n",
       "      <td>train</td>\n",
       "    </tr>\n",
       "    <tr>\n",
       "      <th>sana98.jpg</th>\n",
       "      <td>train</td>\n",
       "      <td>train</td>\n",
       "      <td>train</td>\n",
       "      <td>val</td>\n",
       "      <td>train</td>\n",
       "    </tr>\n",
       "    <tr>\n",
       "      <th>sana99.jpg</th>\n",
       "      <td>val</td>\n",
       "      <td>train</td>\n",
       "      <td>train</td>\n",
       "      <td>train</td>\n",
       "      <td>train</td>\n",
       "    </tr>\n",
       "  </tbody>\n",
       "</table>\n",
       "<p>312 rows × 5 columns</p>\n",
       "</div>"
      ],
      "text/plain": [
       "            split_1 split_2 split_3 split_4 split_5\n",
       "fito1.jpg       val   train   train   train   train\n",
       "fito10.jpg    train     val   train   train   train\n",
       "fito100.jpg   train   train     val   train   train\n",
       "fito101.jpg   train   train   train   train     val\n",
       "fito102.jpg   train   train   train   train     val\n",
       "...             ...     ...     ...     ...     ...\n",
       "sana95.jpg    train     val   train   train   train\n",
       "sana96.jpg    train   train   train     val   train\n",
       "sana97.jpg    train   train   train     val   train\n",
       "sana98.jpg    train   train   train     val   train\n",
       "sana99.jpg      val   train   train   train   train\n",
       "\n",
       "[312 rows x 5 columns]"
      ]
     },
     "execution_count": 47,
     "metadata": {},
     "output_type": "execute_result"
    }
   ],
   "source": [
    "folds_df"
   ]
  },
  {
   "cell_type": "code",
   "execution_count": 76,
   "id": "bfb9f380-e164-44f1-85b3-1178793e9f93",
   "metadata": {
    "collapsed": true,
    "jupyter": {
     "outputs_hidden": true
    },
    "tags": []
   },
   "outputs": [
    {
     "name": "stdout",
     "output_type": "stream",
     "text": [
      "Checking for: fito1 in folds_df\n",
      "Checking for: fito10 in folds_df\n",
      "Checking for: fito100 in folds_df\n",
      "Checking for: fito101 in folds_df\n",
      "Checking for: fito102 in folds_df\n",
      "Checking for: fito103 in folds_df\n",
      "Checking for: fito104 in folds_df\n",
      "Checking for: fito105 in folds_df\n",
      "Checking for: fito106 in folds_df\n",
      "Checking for: fito107 in folds_df\n",
      "Checking for: fito11 in folds_df\n",
      "Checking for: fito12 in folds_df\n",
      "Checking for: fito13 in folds_df\n",
      "Checking for: fito14 in folds_df\n",
      "Checking for: fito15 in folds_df\n",
      "Checking for: fito16 in folds_df\n",
      "Checking for: fito17 in folds_df\n",
      "Checking for: fito18 in folds_df\n",
      "Checking for: fito19 in folds_df\n",
      "Checking for: fito2 in folds_df\n",
      "Checking for: fito20 in folds_df\n",
      "Checking for: fito21 in folds_df\n",
      "Checking for: fito22 in folds_df\n",
      "Checking for: fito23 in folds_df\n",
      "Checking for: fito24 in folds_df\n",
      "Checking for: fito25 in folds_df\n",
      "Checking for: fito26 in folds_df\n",
      "Checking for: fito27 in folds_df\n",
      "Checking for: fito28 in folds_df\n",
      "Checking for: fito29 in folds_df\n",
      "Checking for: fito3 in folds_df\n",
      "Checking for: fito30 in folds_df\n",
      "Checking for: fito31 in folds_df\n",
      "Checking for: fito32 in folds_df\n",
      "Checking for: fito33 in folds_df\n",
      "Checking for: fito34 in folds_df\n",
      "Checking for: fito35 in folds_df\n",
      "Checking for: fito36 in folds_df\n",
      "Checking for: fito37 in folds_df\n",
      "Checking for: fito38 in folds_df\n",
      "Checking for: fito39 in folds_df\n",
      "Checking for: fito4 in folds_df\n",
      "Checking for: fito40 in folds_df\n",
      "Checking for: fito41 in folds_df\n",
      "Checking for: fito42 in folds_df\n",
      "Checking for: fito43 in folds_df\n",
      "Checking for: fito44 in folds_df\n",
      "Checking for: fito45 in folds_df\n",
      "Checking for: fito46 in folds_df\n",
      "Checking for: fito47 in folds_df\n",
      "Checking for: fito48 in folds_df\n",
      "Checking for: fito49 in folds_df\n",
      "Checking for: fito5 in folds_df\n",
      "Checking for: fito50 in folds_df\n",
      "Checking for: fito51 in folds_df\n",
      "Checking for: fito52 in folds_df\n",
      "Checking for: fito53 in folds_df\n",
      "Checking for: fito54 in folds_df\n",
      "Checking for: fito55 in folds_df\n",
      "Checking for: fito56 in folds_df\n",
      "Checking for: fito57 in folds_df\n",
      "Checking for: fito58 in folds_df\n",
      "Checking for: fito59 in folds_df\n",
      "Checking for: fito6 in folds_df\n",
      "Checking for: fito60 in folds_df\n",
      "Checking for: fito61 in folds_df\n",
      "Checking for: fito62 in folds_df\n",
      "Checking for: fito63 in folds_df\n",
      "Checking for: fito64 in folds_df\n",
      "Checking for: fito65 in folds_df\n",
      "Checking for: fito66 in folds_df\n",
      "Checking for: fito67 in folds_df\n",
      "Checking for: fito68 in folds_df\n",
      "Checking for: fito69 in folds_df\n",
      "Checking for: fito7 in folds_df\n",
      "Checking for: fito70 in folds_df\n",
      "Checking for: fito71 in folds_df\n",
      "Checking for: fito72 in folds_df\n",
      "Checking for: fito73 in folds_df\n",
      "Checking for: fito74 in folds_df\n",
      "Checking for: fito75 in folds_df\n",
      "Checking for: fito76 in folds_df\n",
      "Checking for: fito77 in folds_df\n",
      "Checking for: fito78 in folds_df\n",
      "Checking for: fito79 in folds_df\n",
      "Checking for: fito8 in folds_df\n",
      "Checking for: fito80 in folds_df\n",
      "Checking for: fito81 in folds_df\n",
      "Checking for: fito82 in folds_df\n",
      "Checking for: fito83 in folds_df\n",
      "Checking for: fito84 in folds_df\n",
      "Checking for: fito85 in folds_df\n",
      "Checking for: fito86 in folds_df\n",
      "Checking for: fito87 in folds_df\n",
      "Checking for: fito88 in folds_df\n",
      "Checking for: fito89 in folds_df\n",
      "Checking for: fito9 in folds_df\n",
      "Checking for: fito90 in folds_df\n",
      "Checking for: fito91 in folds_df\n",
      "Checking for: fito92 in folds_df\n",
      "Checking for: fito93 in folds_df\n",
      "Checking for: fito94 in folds_df\n",
      "Checking for: fito95 in folds_df\n",
      "Checking for: fito96 in folds_df\n",
      "Checking for: fito97 in folds_df\n",
      "Checking for: fito98 in folds_df\n",
      "Checking for: fito99 in folds_df\n",
      "Checking for: monilia1 in folds_df\n",
      "Checking for: monilia10 in folds_df\n",
      "Checking for: monilia100 in folds_df\n",
      "Checking for: monilia101 in folds_df\n",
      "Checking for: monilia102 in folds_df\n",
      "Checking for: monilia103 in folds_df\n",
      "Checking for: monilia104 in folds_df\n",
      "Checking for: monilia105 in folds_df\n",
      "Checking for: monilia11 in folds_df\n",
      "Checking for: monilia12 in folds_df\n",
      "Checking for: monilia13 in folds_df\n",
      "Checking for: monilia14 in folds_df\n",
      "Checking for: monilia15 in folds_df\n",
      "Checking for: monilia16 in folds_df\n",
      "Checking for: monilia17 in folds_df\n",
      "Checking for: monilia18 in folds_df\n",
      "Checking for: monilia19 in folds_df\n",
      "Checking for: monilia2 in folds_df\n",
      "Checking for: monilia20 in folds_df\n",
      "Checking for: monilia21 in folds_df\n",
      "Checking for: monilia22 in folds_df\n",
      "Checking for: monilia23 in folds_df\n",
      "Checking for: monilia24 in folds_df\n",
      "Checking for: monilia25 in folds_df\n",
      "Checking for: monilia26 in folds_df\n",
      "Checking for: monilia27 in folds_df\n",
      "Checking for: monilia28 in folds_df\n",
      "Checking for: monilia29 in folds_df\n",
      "Checking for: monilia3 in folds_df\n",
      "Checking for: monilia30 in folds_df\n",
      "Checking for: monilia31 in folds_df\n",
      "Checking for: monilia32 in folds_df\n",
      "Checking for: monilia33 in folds_df\n",
      "Checking for: monilia34 in folds_df\n",
      "Checking for: monilia35 in folds_df\n",
      "Checking for: monilia36 in folds_df\n",
      "Checking for: monilia37 in folds_df\n",
      "Checking for: monilia38 in folds_df\n",
      "Checking for: monilia39 in folds_df\n",
      "Checking for: monilia4 in folds_df\n",
      "Checking for: monilia40 in folds_df\n",
      "Checking for: monilia41 in folds_df\n",
      "Checking for: monilia42 in folds_df\n",
      "Checking for: monilia43 in folds_df\n",
      "Checking for: monilia44 in folds_df\n",
      "Checking for: monilia45 in folds_df\n",
      "Checking for: monilia46 in folds_df\n",
      "Checking for: monilia47 in folds_df\n",
      "Checking for: monilia48 in folds_df\n",
      "Checking for: monilia49 in folds_df\n",
      "Checking for: monilia5 in folds_df\n",
      "Checking for: monilia50 in folds_df\n",
      "Checking for: monilia51 in folds_df\n",
      "Checking for: monilia52 in folds_df\n",
      "Checking for: monilia53 in folds_df\n",
      "Checking for: monilia54 in folds_df\n",
      "Checking for: monilia55 in folds_df\n",
      "Checking for: monilia56 in folds_df\n",
      "Checking for: monilia57 in folds_df\n",
      "Checking for: monilia58 in folds_df\n",
      "Checking for: monilia59 in folds_df\n",
      "Checking for: monilia6 in folds_df\n",
      "Checking for: monilia60 in folds_df\n",
      "Checking for: monilia61 in folds_df\n",
      "Checking for: monilia62 in folds_df\n",
      "Checking for: monilia63 in folds_df\n",
      "Checking for: monilia64 in folds_df\n",
      "Checking for: monilia65 in folds_df\n",
      "Checking for: monilia66 in folds_df\n",
      "Checking for: monilia67 in folds_df\n",
      "Checking for: monilia68 in folds_df\n",
      "Checking for: monilia69 in folds_df\n",
      "Checking for: monilia7 in folds_df\n",
      "Checking for: monilia70 in folds_df\n",
      "Checking for: monilia71 in folds_df\n",
      "Checking for: monilia72 in folds_df\n",
      "Checking for: monilia73 in folds_df\n",
      "Checking for: monilia74 in folds_df\n",
      "Checking for: monilia75 in folds_df\n",
      "Checking for: monilia76 in folds_df\n",
      "Checking for: monilia77 in folds_df\n",
      "Checking for: monilia78 in folds_df\n",
      "Checking for: monilia79 in folds_df\n",
      "Checking for: monilia8 in folds_df\n",
      "Checking for: monilia80 in folds_df\n",
      "Checking for: monilia81 in folds_df\n",
      "Checking for: monilia82 in folds_df\n",
      "Checking for: monilia83 in folds_df\n",
      "Checking for: monilia84 in folds_df\n",
      "Checking for: monilia85 in folds_df\n",
      "Checking for: monilia86 in folds_df\n",
      "Checking for: monilia87 in folds_df\n",
      "Checking for: monilia88 in folds_df\n",
      "Checking for: monilia89 in folds_df\n",
      "Checking for: monilia9 in folds_df\n",
      "Checking for: monilia90 in folds_df\n",
      "Checking for: monilia91 in folds_df\n",
      "Checking for: monilia92 in folds_df\n",
      "Checking for: monilia93 in folds_df\n",
      "Checking for: monilia94 in folds_df\n",
      "Checking for: monilia95 in folds_df\n",
      "Checking for: monilia96 in folds_df\n",
      "Checking for: monilia97 in folds_df\n",
      "Checking for: monilia98 in folds_df\n",
      "Checking for: monilia99 in folds_df\n",
      "Checking for: sana1 in folds_df\n",
      "Checking for: sana10 in folds_df\n",
      "Checking for: sana100 in folds_df\n",
      "Checking for: sana11 in folds_df\n",
      "Checking for: sana12 in folds_df\n",
      "Checking for: sana13 in folds_df\n",
      "Checking for: sana14 in folds_df\n",
      "Checking for: sana15 in folds_df\n",
      "Checking for: sana16 in folds_df\n",
      "Checking for: sana17 in folds_df\n",
      "Checking for: sana18 in folds_df\n",
      "Checking for: sana19 in folds_df\n",
      "Checking for: sana2 in folds_df\n",
      "Checking for: sana20 in folds_df\n",
      "Checking for: sana21 in folds_df\n",
      "Checking for: sana22 in folds_df\n",
      "Checking for: sana23 in folds_df\n",
      "Checking for: sana24 in folds_df\n",
      "Checking for: sana25 in folds_df\n",
      "Checking for: sana26 in folds_df\n",
      "Checking for: sana27 in folds_df\n",
      "Checking for: sana28 in folds_df\n",
      "Checking for: sana29 in folds_df\n",
      "Checking for: sana3 in folds_df\n",
      "Checking for: sana30 in folds_df\n",
      "Checking for: sana31 in folds_df\n",
      "Checking for: sana32 in folds_df\n",
      "Checking for: sana33 in folds_df\n",
      "Checking for: sana34 in folds_df\n",
      "Checking for: sana35 in folds_df\n",
      "Checking for: sana36 in folds_df\n",
      "Checking for: sana37 in folds_df\n",
      "Checking for: sana38 in folds_df\n",
      "Checking for: sana39 in folds_df\n",
      "Checking for: sana4 in folds_df\n",
      "Checking for: sana40 in folds_df\n",
      "Checking for: sana41 in folds_df\n",
      "Checking for: sana42 in folds_df\n",
      "Checking for: sana43 in folds_df\n",
      "Checking for: sana44 in folds_df\n",
      "Checking for: sana45 in folds_df\n",
      "Checking for: sana46 in folds_df\n",
      "Checking for: sana47 in folds_df\n",
      "Checking for: sana48 in folds_df\n",
      "Checking for: sana49 in folds_df\n",
      "Checking for: sana5 in folds_df\n",
      "Checking for: sana50 in folds_df\n",
      "Checking for: sana51 in folds_df\n",
      "Checking for: sana52 in folds_df\n",
      "Checking for: sana53 in folds_df\n",
      "Checking for: sana54 in folds_df\n",
      "Checking for: sana55 in folds_df\n",
      "Checking for: sana56 in folds_df\n",
      "Checking for: sana57 in folds_df\n",
      "Checking for: sana58 in folds_df\n",
      "Checking for: sana59 in folds_df\n",
      "Checking for: sana6 in folds_df\n",
      "Checking for: sana60 in folds_df\n",
      "Checking for: sana61 in folds_df\n",
      "Checking for: sana62 in folds_df\n",
      "Checking for: sana63 in folds_df\n",
      "Checking for: sana64 in folds_df\n",
      "Checking for: sana65 in folds_df\n",
      "Checking for: sana66 in folds_df\n",
      "Checking for: sana67 in folds_df\n",
      "Checking for: sana68 in folds_df\n",
      "Checking for: sana69 in folds_df\n",
      "Checking for: sana7 in folds_df\n",
      "Checking for: sana70 in folds_df\n",
      "Checking for: sana71 in folds_df\n",
      "Checking for: sana72 in folds_df\n",
      "Checking for: sana73 in folds_df\n",
      "Checking for: sana74 in folds_df\n",
      "Checking for: sana75 in folds_df\n",
      "Checking for: sana76 in folds_df\n",
      "Checking for: sana77 in folds_df\n",
      "Checking for: sana78 in folds_df\n",
      "Checking for: sana79 in folds_df\n",
      "Checking for: sana8 in folds_df\n",
      "Checking for: sana80 in folds_df\n",
      "Checking for: sana81 in folds_df\n",
      "Checking for: sana82 in folds_df\n",
      "Checking for: sana83 in folds_df\n",
      "Checking for: sana84 in folds_df\n",
      "Checking for: sana85 in folds_df\n",
      "Checking for: sana86 in folds_df\n",
      "Checking for: sana87 in folds_df\n",
      "Checking for: sana88 in folds_df\n",
      "Checking for: sana89 in folds_df\n",
      "Checking for: sana9 in folds_df\n",
      "Checking for: sana90 in folds_df\n",
      "Checking for: sana91 in folds_df\n",
      "Checking for: sana92 in folds_df\n",
      "Checking for: sana93 in folds_df\n",
      "Checking for: sana94 in folds_df\n",
      "Checking for: sana95 in folds_df\n",
      "Checking for: sana96 in folds_df\n",
      "Checking for: sana97 in folds_df\n",
      "Checking for: sana98 in folds_df\n",
      "Checking for: sana99 in folds_df\n"
     ]
    }
   ],
   "source": [
    "# Ensure index is clean\n",
    "folds_df.index = folds_df.index.str.strip().str.lower()\n",
    "\n",
    "for image, label in zip(images, labels):\n",
    "    img_stem = image.stem.strip().lower()  # Normalize file name\n",
    "    print(f\"Checking for: {img_stem} in folds_df\")\n",
    "\n",
    "    if img_stem in folds_df.index:\n",
    "        for split, k_split in folds_df.loc[img_stem].items():\n",
    "            img_to_path = save_path / split / k_split / \"images\"\n",
    "            lbl_to_path = save_path / split / k_split / \"labels\"\n",
    "\n",
    "            shutil.copy(image, img_to_path / image.name)\n",
    "            shutil.copy(label, lbl_to_path / label.name)\n",
    "    else:\n",
    "        print(f\"Warning: {img_stem} not found in folds_df!\")\n"
   ]
  },
  {
   "cell_type": "markdown",
   "id": "8f08556c-7207-4f19-a973-7716d481eee7",
   "metadata": {
    "tags": [],
    "user_expressions": []
   },
   "source": [
    "# Cross validate one model"
   ]
  },
  {
   "cell_type": "code",
   "execution_count": 1,
   "id": "a1cf56de-c50c-4bd7-9f9b-42eef101f38d",
   "metadata": {
    "tags": []
   },
   "outputs": [],
   "source": [
    "from ultralytics import YOLO\n",
    "from ultralytics import settings\n"
   ]
  },
  {
   "cell_type": "code",
   "execution_count": 2,
   "id": "8221df50-1722-4008-b1d6-4024298ca0c5",
   "metadata": {
    "tags": []
   },
   "outputs": [
    {
     "name": "stdout",
     "output_type": "stream",
     "text": [
      "JSONDict(\"/home/jovyan/.config/Ultralytics/settings.json\"):\n",
      "{\n",
      "  \"settings_version\": \"0.0.6\",\n",
      "  \"datasets_dir\": \"/home/jovyan/ML2/Sparsification\",\n",
      "  \"weights_dir\": \"weights\",\n",
      "  \"runs_dir\": \"runs\",\n",
      "  \"uuid\": \"93458b231be90a548d04c63a0c95116cfd63e3c32b7079f22fa8b532fb8aae75\",\n",
      "  \"sync\": true,\n",
      "  \"api_key\": \"\",\n",
      "  \"openai_api_key\": \"\",\n",
      "  \"clearml\": true,\n",
      "  \"comet\": true,\n",
      "  \"dvc\": true,\n",
      "  \"hub\": true,\n",
      "  \"mlflow\": true,\n",
      "  \"neptune\": true,\n",
      "  \"raytune\": true,\n",
      "  \"tensorboard\": true,\n",
      "  \"wandb\": false,\n",
      "  \"vscode_msg\": true\n",
      "}\n"
     ]
    }
   ],
   "source": [
    "\n",
    "settings.update({\"datasets_dir\": \"/home/jovyan/ML2/Sparsification\"})\n",
    "\n",
    "print(settings)"
   ]
  },
  {
   "cell_type": "code",
   "execution_count": 3,
   "id": "05d8a39e-5701-42a7-ae9f-0ffa6aa3d95d",
   "metadata": {
    "tags": []
   },
   "outputs": [
    {
     "name": "stdout",
     "output_type": "stream",
     "text": [
      "1\n",
      "2\n",
      "3\n",
      "4\n",
      "5\n"
     ]
    }
   ],
   "source": [
    "for k in range(5):\n",
    "    print(k+1)"
   ]
  },
  {
   "cell_type": "code",
   "execution_count": 3,
   "id": "c1e6cf78-84ea-4127-8a0a-2c046e943c97",
   "metadata": {
    "tags": []
   },
   "outputs": [
    {
     "name": "stdout",
     "output_type": "stream",
     "text": [
      "New https://pypi.org/project/ultralytics/8.3.70 available 😃 Update with 'pip install -U ultralytics'\n",
      "Ultralytics 8.3.58 🚀 Python-3.8.10 torch-1.13.1+cu116 CUDA:7 (NVIDIA A16, 15000MiB)\n",
      "WARNING ⚠️ Upgrade to torch>=2.0.0 for deterministic training.\n",
      "\u001b[34m\u001b[1mengine/trainer: \u001b[0mtask=detect, mode=train, model=models/yolo11x_trained_pruned_local_structured_50_channel.pt, data=../kfold_datasets/2025-01-31_5-Fold_Cross-val/split_1/split_1_dataset.yaml, epochs=100, time=None, patience=100, batch=2, imgsz=640, save=True, save_period=-1, cache=False, device=[7], workers=4, project=../lottery_ticket_iterative_pruning/1stround, name=split_1_train7, exist_ok=False, pretrained=True, optimizer=auto, verbose=True, seed=0, deterministic=True, single_cls=False, rect=False, cos_lr=False, close_mosaic=10, resume=False, amp=True, fraction=1.0, profile=False, freeze=None, multi_scale=False, overlap_mask=True, mask_ratio=4, dropout=0.0, val=True, split=val, save_json=False, save_hybrid=False, conf=None, iou=0.7, max_det=300, half=False, dnn=False, plots=True, source=None, vid_stride=1, stream_buffer=False, visualize=False, augment=False, agnostic_nms=False, classes=None, retina_masks=False, embed=None, show=False, save_frames=False, save_txt=False, save_conf=False, save_crop=False, show_labels=True, show_conf=True, show_boxes=True, line_width=None, format=torchscript, keras=False, optimize=False, int8=False, dynamic=False, simplify=True, opset=None, workspace=None, nms=False, lr0=0.001, lrf=0.01, momentum=0.937, weight_decay=0.0005, warmup_epochs=3.0, warmup_momentum=0.8, warmup_bias_lr=0.1, box=7.5, cls=0.5, dfl=1.5, pose=12.0, kobj=1.0, nbs=64, hsv_h=0.015, hsv_s=0.7, hsv_v=0.4, degrees=0.0, translate=0.1, scale=0.5, shear=0.0, perspective=0.0, flipud=0.0, fliplr=0.5, bgr=0.0, mosaic=1.0, mixup=0.0, copy_paste=0.0, copy_paste_mode=flip, auto_augment=randaugment, erasing=0.4, crop_fraction=1.0, cfg=None, tracker=botsort.yaml, save_dir=../lottery_ticket_iterative_pruning/1stround/split_1_train7\n",
      "\n",
      "                   from  n    params  module                                       arguments                     \n",
      "  0                  -1  1      2784  ultralytics.nn.modules.conv.Conv             [3, 96, 3, 2]                 \n",
      "  1                  -1  1    166272  ultralytics.nn.modules.conv.Conv             [96, 192, 3, 2]               \n",
      "  2                  -1  2    389760  ultralytics.nn.modules.block.C3k2            [192, 384, 2, True, 0.25]     \n",
      "  3                  -1  1   1327872  ultralytics.nn.modules.conv.Conv             [384, 384, 3, 2]              \n",
      "  4                  -1  2   1553664  ultralytics.nn.modules.block.C3k2            [384, 768, 2, True, 0.25]     \n",
      "  5                  -1  1   5309952  ultralytics.nn.modules.conv.Conv             [768, 768, 3, 2]              \n",
      "  6                  -1  2   5022720  ultralytics.nn.modules.block.C3k2            [768, 768, 2, True]           \n",
      "  7                  -1  1   5309952  ultralytics.nn.modules.conv.Conv             [768, 768, 3, 2]              \n",
      "  8                  -1  2   5022720  ultralytics.nn.modules.block.C3k2            [768, 768, 2, True]           \n",
      "  9                  -1  1   1476864  ultralytics.nn.modules.block.SPPF            [768, 768, 5]                 \n",
      " 10                  -1  2   3264768  ultralytics.nn.modules.block.C2PSA           [768, 768, 2]                 \n",
      " 11                  -1  1         0  torch.nn.modules.upsampling.Upsample         [None, 2, 'nearest']          \n",
      " 12             [-1, 6]  1         0  ultralytics.nn.modules.conv.Concat           [1]                           \n",
      " 13                  -1  2   5612544  ultralytics.nn.modules.block.C3k2            [1536, 768, 2, True]          \n",
      " 14                  -1  1         0  torch.nn.modules.upsampling.Upsample         [None, 2, 'nearest']          \n",
      " 15             [-1, 4]  1         0  ultralytics.nn.modules.conv.Concat           [1]                           \n",
      " 16                  -1  2   1700352  ultralytics.nn.modules.block.C3k2            [1536, 384, 2, True]          \n",
      " 17                  -1  1   1327872  ultralytics.nn.modules.conv.Conv             [384, 384, 3, 2]              \n",
      " 18            [-1, 13]  1         0  ultralytics.nn.modules.conv.Concat           [1]                           \n",
      " 19                  -1  2   5317632  ultralytics.nn.modules.block.C3k2            [1152, 768, 2, True]          \n",
      " 20                  -1  1   5309952  ultralytics.nn.modules.conv.Conv             [768, 768, 3, 2]              \n",
      " 21            [-1, 10]  1         0  ultralytics.nn.modules.conv.Concat           [1]                           \n",
      " 22                  -1  2   5612544  ultralytics.nn.modules.block.C3k2            [1536, 768, 2, True]          \n",
      " 23        [16, 19, 22]  1   3149017  ultralytics.nn.modules.head.Detect           [3, [384, 768, 768]]          \n",
      "YOLO11x summary: 631 layers, 56,877,241 parameters, 56,877,225 gradients, 195.5 GFLOPs\n",
      "\n",
      "Transferred 1015/1015 items from pretrained weights\n",
      "\u001b[34m\u001b[1mTensorBoard: \u001b[0mStart with 'tensorboard --logdir ../lottery_ticket_iterative_pruning/1stround/split_1_train7', view at http://localhost:6006/\n",
      "Freezing layer 'model.23.dfl.conv.weight'\n",
      "\u001b[34m\u001b[1mAMP: \u001b[0mrunning Automatic Mixed Precision (AMP) checks...\n",
      "\u001b[34m\u001b[1mAMP: \u001b[0mchecks passed ✅\n"
     ]
    },
    {
     "name": "stderr",
     "output_type": "stream",
     "text": [
      "\u001b[34m\u001b[1mtrain: \u001b[0mScanning /home/jovyan/ML2/kfold_datasets/2025-01-31_5-Fold_Cross-val/split_1/train/labels... 0 images, 249 backgrounds, 0 corrupt: 100%|██████████| 249/249 [00:00<00:00, 699.89it/s]"
     ]
    },
    {
     "name": "stdout",
     "output_type": "stream",
     "text": [
      "\u001b[34m\u001b[1mtrain: \u001b[0mWARNING ⚠️ No labels found in /home/jovyan/ML2/kfold_datasets/2025-01-31_5-Fold_Cross-val/split_1/train/labels.cache. See https://docs.ultralytics.com/datasets for dataset formatting guidance.\n"
     ]
    },
    {
     "name": "stderr",
     "output_type": "stream",
     "text": [
      "\n"
     ]
    },
    {
     "name": "stdout",
     "output_type": "stream",
     "text": [
      "\u001b[34m\u001b[1mtrain: \u001b[0mNew cache created: /home/jovyan/ML2/kfold_datasets/2025-01-31_5-Fold_Cross-val/split_1/train/labels.cache\n",
      "WARNING ⚠️ No labels found in /home/jovyan/ML2/kfold_datasets/2025-01-31_5-Fold_Cross-val/split_1/train/labels.cache, training may not work correctly. See https://docs.ultralytics.com/datasets for dataset formatting guidance.\n"
     ]
    },
    {
     "name": "stderr",
     "output_type": "stream",
     "text": [
      "\u001b[34m\u001b[1mval: \u001b[0mScanning /home/jovyan/ML2/kfold_datasets/2025-01-31_5-Fold_Cross-val/split_1/val/labels... 0 images, 63 backgrounds, 0 corrupt: 100%|██████████| 63/63 [00:00<00:00, 656.29it/s]"
     ]
    },
    {
     "name": "stdout",
     "output_type": "stream",
     "text": [
      "\u001b[34m\u001b[1mval: \u001b[0mWARNING ⚠️ No labels found in /home/jovyan/ML2/kfold_datasets/2025-01-31_5-Fold_Cross-val/split_1/val/labels.cache. See https://docs.ultralytics.com/datasets for dataset formatting guidance.\n",
      "\u001b[34m\u001b[1mval: \u001b[0mNew cache created: /home/jovyan/ML2/kfold_datasets/2025-01-31_5-Fold_Cross-val/split_1/val/labels.cache\n",
      "WARNING ⚠️ No labels found in /home/jovyan/ML2/kfold_datasets/2025-01-31_5-Fold_Cross-val/split_1/val/labels.cache, training may not work correctly. See https://docs.ultralytics.com/datasets for dataset formatting guidance.\n"
     ]
    },
    {
     "name": "stderr",
     "output_type": "stream",
     "text": [
      "\n"
     ]
    },
    {
     "name": "stdout",
     "output_type": "stream",
     "text": [
      "Plotting labels to ../lottery_ticket_iterative_pruning/1stround/split_1_train7/labels.jpg... \n",
      "zero-size array to reduction operation maximum which has no identity\n",
      "\u001b[34m\u001b[1moptimizer:\u001b[0m 'optimizer=auto' found, ignoring 'lr0=0.001' and 'momentum=0.937' and determining best 'optimizer', 'lr0' and 'momentum' automatically... \n",
      "\u001b[34m\u001b[1moptimizer:\u001b[0m AdamW(lr=0.001429, momentum=0.9) with parameter groups 167 weight(decay=0.0), 174 weight(decay=0.0005), 173 bias(decay=0.0)\n",
      "\u001b[34m\u001b[1mTensorBoard: \u001b[0mmodel graph visualization added ✅\n",
      "Image sizes 640 train, 640 val\n",
      "Using 4 dataloader workers\n",
      "Logging results to \u001b[1m../lottery_ticket_iterative_pruning/1stround/split_1_train7\u001b[0m\n",
      "Starting training for 100 epochs...\n",
      "\n",
      "      Epoch    GPU_mem   box_loss   cls_loss   dfl_loss  Instances       Size\n"
     ]
    },
    {
     "name": "stderr",
     "output_type": "stream",
     "text": [
      "      1/100      3.91G          0      5.878          0          0        640: 100%|██████████| 125/125 [00:36<00:00,  3.45it/s]\n",
      "                 Class     Images  Instances      Box(P          R      mAP50  mAP50-95): 100%|██████████| 16/16 [00:02<00:00,  7.66it/s]"
     ]
    },
    {
     "name": "stdout",
     "output_type": "stream",
     "text": [
      "                   all         63          0          0          0          0          0\n",
      "WARNING ⚠️ no labels found in detect set, can not compute metrics without labels\n"
     ]
    },
    {
     "name": "stderr",
     "output_type": "stream",
     "text": [
      "\n"
     ]
    },
    {
     "name": "stdout",
     "output_type": "stream",
     "text": [
      "\n",
      "      Epoch    GPU_mem   box_loss   cls_loss   dfl_loss  Instances       Size\n"
     ]
    },
    {
     "name": "stderr",
     "output_type": "stream",
     "text": [
      "      2/100      3.27G          0     0.9729          0          0        640: 100%|██████████| 125/125 [00:33<00:00,  3.69it/s]\n",
      "                 Class     Images  Instances      Box(P          R      mAP50  mAP50-95): 100%|██████████| 16/16 [00:02<00:00,  7.78it/s]\n"
     ]
    },
    {
     "ename": "RuntimeError",
     "evalue": "torch.cat(): expected a non-empty list of Tensors",
     "output_type": "error",
     "traceback": [
      "\u001b[0;31m---------------------------------------------------------------------------\u001b[0m",
      "\u001b[0;31mRuntimeError\u001b[0m                              Traceback (most recent call last)",
      "Cell \u001b[0;32mIn[3], line 12\u001b[0m\n\u001b[1;32m     10\u001b[0m k\u001b[38;5;241m+\u001b[39m\u001b[38;5;241m=\u001b[39m\u001b[38;5;241m1\u001b[39m\n\u001b[1;32m     11\u001b[0m dataset_yaml \u001b[38;5;241m=\u001b[39m \u001b[38;5;124mf\u001b[39m\u001b[38;5;124m\"\u001b[39m\u001b[38;5;124m../kfold_datasets/2025-01-31_5-Fold_Cross-val/split_\u001b[39m\u001b[38;5;132;01m{\u001b[39;00mk\u001b[38;5;132;01m}\u001b[39;00m\u001b[38;5;124m/split_\u001b[39m\u001b[38;5;132;01m{\u001b[39;00mk\u001b[38;5;132;01m}\u001b[39;00m\u001b[38;5;124m_dataset.yaml\u001b[39m\u001b[38;5;124m\"\u001b[39m\n\u001b[0;32m---> 12\u001b[0m train_results \u001b[38;5;241m=\u001b[39m \u001b[43mmodel\u001b[49m\u001b[38;5;241;43m.\u001b[39;49m\u001b[43mtrain\u001b[49m\u001b[43m(\u001b[49m\n\u001b[1;32m     13\u001b[0m \u001b[43m    \u001b[49m\u001b[43mdata\u001b[49m\u001b[43m \u001b[49m\u001b[38;5;241;43m=\u001b[39;49m\u001b[43m \u001b[49m\u001b[43mdataset_yaml\u001b[49m\u001b[43m,\u001b[49m\n\u001b[1;32m     14\u001b[0m \u001b[43m    \u001b[49m\u001b[43mepochs\u001b[49m\u001b[38;5;241;43m=\u001b[39;49m\u001b[38;5;241;43m100\u001b[39;49m\u001b[43m,\u001b[49m\n\u001b[1;32m     15\u001b[0m \u001b[43m    \u001b[49m\u001b[43mproject\u001b[49m\u001b[38;5;241;43m=\u001b[39;49m\u001b[38;5;124;43m\"\u001b[39;49m\u001b[38;5;124;43m../lottery_ticket_iterative_pruning/1stround\u001b[39;49m\u001b[38;5;124;43m\"\u001b[39;49m\u001b[43m,\u001b[49m\n\u001b[1;32m     16\u001b[0m \u001b[43m    \u001b[49m\u001b[43mname\u001b[49m\u001b[38;5;241;43m=\u001b[39;49m\u001b[38;5;124;43mf\u001b[39;49m\u001b[38;5;124;43m\"\u001b[39;49m\u001b[38;5;124;43msplit_\u001b[39;49m\u001b[38;5;132;43;01m{\u001b[39;49;00m\u001b[43mk\u001b[49m\u001b[38;5;132;43;01m}\u001b[39;49;00m\u001b[38;5;124;43m_train\u001b[39;49m\u001b[38;5;124;43m\"\u001b[39;49m\u001b[43m,\u001b[49m\n\u001b[1;32m     17\u001b[0m \u001b[43m    \u001b[49m\u001b[43mplots\u001b[49m\u001b[38;5;241;43m=\u001b[39;49m\u001b[38;5;28;43;01mTrue\u001b[39;49;00m\u001b[43m,\u001b[49m\n\u001b[1;32m     18\u001b[0m \u001b[43m    \u001b[49m\u001b[43mimgsz\u001b[49m\u001b[38;5;241;43m=\u001b[39;49m\u001b[38;5;241;43m640\u001b[39;49m\u001b[43m,\u001b[49m\n\u001b[1;32m     19\u001b[0m \u001b[43m    \u001b[49m\u001b[43mlr0\u001b[49m\u001b[38;5;241;43m=\u001b[39;49m\u001b[38;5;241;43m0.001\u001b[39;49m\u001b[43m,\u001b[49m\u001b[43m   \u001b[49m\u001b[38;5;66;43;03m# default lr is 0.01\u001b[39;49;00m\n\u001b[1;32m     20\u001b[0m \u001b[43m    \u001b[49m\u001b[43mbatch\u001b[49m\u001b[38;5;241;43m=\u001b[39;49m\u001b[38;5;241;43m2\u001b[39;49m\u001b[43m,\u001b[49m\u001b[43m  \u001b[49m\u001b[38;5;66;43;03m# Small batch size\u001b[39;49;00m\n\u001b[1;32m     21\u001b[0m \u001b[43m    \u001b[49m\u001b[43mdevice\u001b[49m\u001b[38;5;241;43m=\u001b[39;49m\u001b[43m[\u001b[49m\u001b[38;5;241;43m7\u001b[39;49m\u001b[43m]\u001b[49m\u001b[43m,\u001b[49m\u001b[43m  \u001b[49m\u001b[38;5;66;43;03m# GPU\u001b[39;49;00m\n\u001b[1;32m     22\u001b[0m \u001b[43m    \u001b[49m\u001b[43mworkers\u001b[49m\u001b[38;5;241;43m=\u001b[39;49m\u001b[38;5;241;43m4\u001b[39;49m\u001b[43m  \u001b[49m\u001b[38;5;66;43;03m# Minimal number of workers\u001b[39;49;00m\n\u001b[1;32m     23\u001b[0m \u001b[43m\u001b[49m\u001b[43m)\u001b[49m\n\u001b[1;32m     24\u001b[0m results[k] \u001b[38;5;241m=\u001b[39m model\u001b[38;5;241m.\u001b[39mmetrics  \u001b[38;5;66;03m# save output metrics for further analysis\u001b[39;00m\n",
      "File \u001b[0;32m~/.local/lib/python3.8/site-packages/ultralytics/engine/model.py:806\u001b[0m, in \u001b[0;36mModel.train\u001b[0;34m(self, trainer, **kwargs)\u001b[0m\n\u001b[1;32m    803\u001b[0m     \u001b[38;5;28mself\u001b[39m\u001b[38;5;241m.\u001b[39mmodel \u001b[38;5;241m=\u001b[39m \u001b[38;5;28mself\u001b[39m\u001b[38;5;241m.\u001b[39mtrainer\u001b[38;5;241m.\u001b[39mmodel\n\u001b[1;32m    805\u001b[0m \u001b[38;5;28mself\u001b[39m\u001b[38;5;241m.\u001b[39mtrainer\u001b[38;5;241m.\u001b[39mhub_session \u001b[38;5;241m=\u001b[39m \u001b[38;5;28mself\u001b[39m\u001b[38;5;241m.\u001b[39msession  \u001b[38;5;66;03m# attach optional HUB session\u001b[39;00m\n\u001b[0;32m--> 806\u001b[0m \u001b[38;5;28;43mself\u001b[39;49m\u001b[38;5;241;43m.\u001b[39;49m\u001b[43mtrainer\u001b[49m\u001b[38;5;241;43m.\u001b[39;49m\u001b[43mtrain\u001b[49m\u001b[43m(\u001b[49m\u001b[43m)\u001b[49m\n\u001b[1;32m    807\u001b[0m \u001b[38;5;66;03m# Update model and cfg after training\u001b[39;00m\n\u001b[1;32m    808\u001b[0m \u001b[38;5;28;01mif\u001b[39;00m RANK \u001b[38;5;129;01min\u001b[39;00m {\u001b[38;5;241m-\u001b[39m\u001b[38;5;241m1\u001b[39m, \u001b[38;5;241m0\u001b[39m}:\n",
      "File \u001b[0;32m~/.local/lib/python3.8/site-packages/ultralytics/engine/trainer.py:207\u001b[0m, in \u001b[0;36mBaseTrainer.train\u001b[0;34m(self)\u001b[0m\n\u001b[1;32m    204\u001b[0m         ddp_cleanup(\u001b[38;5;28mself\u001b[39m, \u001b[38;5;28mstr\u001b[39m(file))\n\u001b[1;32m    206\u001b[0m \u001b[38;5;28;01melse\u001b[39;00m:\n\u001b[0;32m--> 207\u001b[0m     \u001b[38;5;28;43mself\u001b[39;49m\u001b[38;5;241;43m.\u001b[39;49m\u001b[43m_do_train\u001b[49m\u001b[43m(\u001b[49m\u001b[43mworld_size\u001b[49m\u001b[43m)\u001b[49m\n",
      "File \u001b[0;32m~/.local/lib/python3.8/site-packages/ultralytics/engine/trainer.py:432\u001b[0m, in \u001b[0;36mBaseTrainer._do_train\u001b[0;34m(self, world_size)\u001b[0m\n\u001b[1;32m    430\u001b[0m \u001b[38;5;66;03m# Validation\u001b[39;00m\n\u001b[1;32m    431\u001b[0m \u001b[38;5;28;01mif\u001b[39;00m \u001b[38;5;28mself\u001b[39m\u001b[38;5;241m.\u001b[39margs\u001b[38;5;241m.\u001b[39mval \u001b[38;5;129;01mor\u001b[39;00m final_epoch \u001b[38;5;129;01mor\u001b[39;00m \u001b[38;5;28mself\u001b[39m\u001b[38;5;241m.\u001b[39mstopper\u001b[38;5;241m.\u001b[39mpossible_stop \u001b[38;5;129;01mor\u001b[39;00m \u001b[38;5;28mself\u001b[39m\u001b[38;5;241m.\u001b[39mstop:\n\u001b[0;32m--> 432\u001b[0m     \u001b[38;5;28mself\u001b[39m\u001b[38;5;241m.\u001b[39mmetrics, \u001b[38;5;28mself\u001b[39m\u001b[38;5;241m.\u001b[39mfitness \u001b[38;5;241m=\u001b[39m \u001b[38;5;28;43mself\u001b[39;49m\u001b[38;5;241;43m.\u001b[39;49m\u001b[43mvalidate\u001b[49m\u001b[43m(\u001b[49m\u001b[43m)\u001b[49m\n\u001b[1;32m    433\u001b[0m \u001b[38;5;28mself\u001b[39m\u001b[38;5;241m.\u001b[39msave_metrics(metrics\u001b[38;5;241m=\u001b[39m{\u001b[38;5;241m*\u001b[39m\u001b[38;5;241m*\u001b[39m\u001b[38;5;28mself\u001b[39m\u001b[38;5;241m.\u001b[39mlabel_loss_items(\u001b[38;5;28mself\u001b[39m\u001b[38;5;241m.\u001b[39mtloss), \u001b[38;5;241m*\u001b[39m\u001b[38;5;241m*\u001b[39m\u001b[38;5;28mself\u001b[39m\u001b[38;5;241m.\u001b[39mmetrics, \u001b[38;5;241m*\u001b[39m\u001b[38;5;241m*\u001b[39m\u001b[38;5;28mself\u001b[39m\u001b[38;5;241m.\u001b[39mlr})\n\u001b[1;32m    434\u001b[0m \u001b[38;5;28mself\u001b[39m\u001b[38;5;241m.\u001b[39mstop \u001b[38;5;241m|\u001b[39m\u001b[38;5;241m=\u001b[39m \u001b[38;5;28mself\u001b[39m\u001b[38;5;241m.\u001b[39mstopper(epoch \u001b[38;5;241m+\u001b[39m \u001b[38;5;241m1\u001b[39m, \u001b[38;5;28mself\u001b[39m\u001b[38;5;241m.\u001b[39mfitness) \u001b[38;5;129;01mor\u001b[39;00m final_epoch\n",
      "File \u001b[0;32m~/.local/lib/python3.8/site-packages/ultralytics/engine/trainer.py:605\u001b[0m, in \u001b[0;36mBaseTrainer.validate\u001b[0;34m(self)\u001b[0m\n\u001b[1;32m    599\u001b[0m \u001b[38;5;28;01mdef\u001b[39;00m \u001b[38;5;21mvalidate\u001b[39m(\u001b[38;5;28mself\u001b[39m):\n\u001b[1;32m    600\u001b[0m \u001b[38;5;250m    \u001b[39m\u001b[38;5;124;03m\"\"\"\u001b[39;00m\n\u001b[1;32m    601\u001b[0m \u001b[38;5;124;03m    Runs validation on test set using self.validator.\u001b[39;00m\n\u001b[1;32m    602\u001b[0m \n\u001b[1;32m    603\u001b[0m \u001b[38;5;124;03m    The returned dict is expected to contain \"fitness\" key.\u001b[39;00m\n\u001b[1;32m    604\u001b[0m \u001b[38;5;124;03m    \"\"\"\u001b[39;00m\n\u001b[0;32m--> 605\u001b[0m     metrics \u001b[38;5;241m=\u001b[39m \u001b[38;5;28;43mself\u001b[39;49m\u001b[38;5;241;43m.\u001b[39;49m\u001b[43mvalidator\u001b[49m\u001b[43m(\u001b[49m\u001b[38;5;28;43mself\u001b[39;49m\u001b[43m)\u001b[49m\n\u001b[1;32m    606\u001b[0m     fitness \u001b[38;5;241m=\u001b[39m metrics\u001b[38;5;241m.\u001b[39mpop(\u001b[38;5;124m\"\u001b[39m\u001b[38;5;124mfitness\u001b[39m\u001b[38;5;124m\"\u001b[39m, \u001b[38;5;241m-\u001b[39m\u001b[38;5;28mself\u001b[39m\u001b[38;5;241m.\u001b[39mloss\u001b[38;5;241m.\u001b[39mdetach()\u001b[38;5;241m.\u001b[39mcpu()\u001b[38;5;241m.\u001b[39mnumpy())  \u001b[38;5;66;03m# use loss as fitness measure if not found\u001b[39;00m\n\u001b[1;32m    607\u001b[0m     \u001b[38;5;28;01mif\u001b[39;00m \u001b[38;5;129;01mnot\u001b[39;00m \u001b[38;5;28mself\u001b[39m\u001b[38;5;241m.\u001b[39mbest_fitness \u001b[38;5;129;01mor\u001b[39;00m \u001b[38;5;28mself\u001b[39m\u001b[38;5;241m.\u001b[39mbest_fitness \u001b[38;5;241m<\u001b[39m fitness:\n",
      "File \u001b[0;32m/usr/local/lib/python3.8/dist-packages/torch/autograd/grad_mode.py:27\u001b[0m, in \u001b[0;36m_DecoratorContextManager.__call__.<locals>.decorate_context\u001b[0;34m(*args, **kwargs)\u001b[0m\n\u001b[1;32m     24\u001b[0m \u001b[38;5;129m@functools\u001b[39m\u001b[38;5;241m.\u001b[39mwraps(func)\n\u001b[1;32m     25\u001b[0m \u001b[38;5;28;01mdef\u001b[39;00m \u001b[38;5;21mdecorate_context\u001b[39m(\u001b[38;5;241m*\u001b[39margs, \u001b[38;5;241m*\u001b[39m\u001b[38;5;241m*\u001b[39mkwargs):\n\u001b[1;32m     26\u001b[0m     \u001b[38;5;28;01mwith\u001b[39;00m \u001b[38;5;28mself\u001b[39m\u001b[38;5;241m.\u001b[39mclone():\n\u001b[0;32m---> 27\u001b[0m         \u001b[38;5;28;01mreturn\u001b[39;00m \u001b[43mfunc\u001b[49m\u001b[43m(\u001b[49m\u001b[38;5;241;43m*\u001b[39;49m\u001b[43margs\u001b[49m\u001b[43m,\u001b[49m\u001b[43m \u001b[49m\u001b[38;5;241;43m*\u001b[39;49m\u001b[38;5;241;43m*\u001b[39;49m\u001b[43mkwargs\u001b[49m\u001b[43m)\u001b[49m\n",
      "File \u001b[0;32m~/.local/lib/python3.8/site-packages/ultralytics/engine/validator.py:197\u001b[0m, in \u001b[0;36mBaseValidator.__call__\u001b[0;34m(self, trainer, model)\u001b[0m\n\u001b[1;32m    194\u001b[0m         \u001b[38;5;28mself\u001b[39m\u001b[38;5;241m.\u001b[39mplot_predictions(batch, preds, batch_i)\n\u001b[1;32m    196\u001b[0m     \u001b[38;5;28mself\u001b[39m\u001b[38;5;241m.\u001b[39mrun_callbacks(\u001b[38;5;124m\"\u001b[39m\u001b[38;5;124mon_val_batch_end\u001b[39m\u001b[38;5;124m\"\u001b[39m)\n\u001b[0;32m--> 197\u001b[0m stats \u001b[38;5;241m=\u001b[39m \u001b[38;5;28;43mself\u001b[39;49m\u001b[38;5;241;43m.\u001b[39;49m\u001b[43mget_stats\u001b[49m\u001b[43m(\u001b[49m\u001b[43m)\u001b[49m\n\u001b[1;32m    198\u001b[0m \u001b[38;5;28mself\u001b[39m\u001b[38;5;241m.\u001b[39mcheck_stats(stats)\n\u001b[1;32m    199\u001b[0m \u001b[38;5;28mself\u001b[39m\u001b[38;5;241m.\u001b[39mspeed \u001b[38;5;241m=\u001b[39m \u001b[38;5;28mdict\u001b[39m(\u001b[38;5;28mzip\u001b[39m(\u001b[38;5;28mself\u001b[39m\u001b[38;5;241m.\u001b[39mspeed\u001b[38;5;241m.\u001b[39mkeys(), (x\u001b[38;5;241m.\u001b[39mt \u001b[38;5;241m/\u001b[39m \u001b[38;5;28mlen\u001b[39m(\u001b[38;5;28mself\u001b[39m\u001b[38;5;241m.\u001b[39mdataloader\u001b[38;5;241m.\u001b[39mdataset) \u001b[38;5;241m*\u001b[39m \u001b[38;5;241m1e3\u001b[39m \u001b[38;5;28;01mfor\u001b[39;00m x \u001b[38;5;129;01min\u001b[39;00m dt)))\n",
      "File \u001b[0;32m~/.local/lib/python3.8/site-packages/ultralytics/models/yolo/detect/val.py:181\u001b[0m, in \u001b[0;36mDetectionValidator.get_stats\u001b[0;34m(self)\u001b[0m\n\u001b[1;32m    179\u001b[0m \u001b[38;5;28;01mdef\u001b[39;00m \u001b[38;5;21mget_stats\u001b[39m(\u001b[38;5;28mself\u001b[39m):\n\u001b[1;32m    180\u001b[0m \u001b[38;5;250m    \u001b[39m\u001b[38;5;124;03m\"\"\"Returns metrics statistics and results dictionary.\"\"\"\u001b[39;00m\n\u001b[0;32m--> 181\u001b[0m     stats \u001b[38;5;241m=\u001b[39m {k: torch\u001b[38;5;241m.\u001b[39mcat(v, \u001b[38;5;241m0\u001b[39m)\u001b[38;5;241m.\u001b[39mcpu()\u001b[38;5;241m.\u001b[39mnumpy() \u001b[38;5;28;01mfor\u001b[39;00m k, v \u001b[38;5;129;01min\u001b[39;00m \u001b[38;5;28mself\u001b[39m\u001b[38;5;241m.\u001b[39mstats\u001b[38;5;241m.\u001b[39mitems()}  \u001b[38;5;66;03m# to numpy\u001b[39;00m\n\u001b[1;32m    182\u001b[0m     \u001b[38;5;28mself\u001b[39m\u001b[38;5;241m.\u001b[39mnt_per_class \u001b[38;5;241m=\u001b[39m np\u001b[38;5;241m.\u001b[39mbincount(stats[\u001b[38;5;124m\"\u001b[39m\u001b[38;5;124mtarget_cls\u001b[39m\u001b[38;5;124m\"\u001b[39m]\u001b[38;5;241m.\u001b[39mastype(\u001b[38;5;28mint\u001b[39m), minlength\u001b[38;5;241m=\u001b[39m\u001b[38;5;28mself\u001b[39m\u001b[38;5;241m.\u001b[39mnc)\n\u001b[1;32m    183\u001b[0m     \u001b[38;5;28mself\u001b[39m\u001b[38;5;241m.\u001b[39mnt_per_image \u001b[38;5;241m=\u001b[39m np\u001b[38;5;241m.\u001b[39mbincount(stats[\u001b[38;5;124m\"\u001b[39m\u001b[38;5;124mtarget_img\u001b[39m\u001b[38;5;124m\"\u001b[39m]\u001b[38;5;241m.\u001b[39mastype(\u001b[38;5;28mint\u001b[39m), minlength\u001b[38;5;241m=\u001b[39m\u001b[38;5;28mself\u001b[39m\u001b[38;5;241m.\u001b[39mnc)\n",
      "File \u001b[0;32m~/.local/lib/python3.8/site-packages/ultralytics/models/yolo/detect/val.py:181\u001b[0m, in \u001b[0;36m<dictcomp>\u001b[0;34m(.0)\u001b[0m\n\u001b[1;32m    179\u001b[0m \u001b[38;5;28;01mdef\u001b[39;00m \u001b[38;5;21mget_stats\u001b[39m(\u001b[38;5;28mself\u001b[39m):\n\u001b[1;32m    180\u001b[0m \u001b[38;5;250m    \u001b[39m\u001b[38;5;124;03m\"\"\"Returns metrics statistics and results dictionary.\"\"\"\u001b[39;00m\n\u001b[0;32m--> 181\u001b[0m     stats \u001b[38;5;241m=\u001b[39m {k: \u001b[43mtorch\u001b[49m\u001b[38;5;241;43m.\u001b[39;49m\u001b[43mcat\u001b[49m\u001b[43m(\u001b[49m\u001b[43mv\u001b[49m\u001b[43m,\u001b[49m\u001b[43m \u001b[49m\u001b[38;5;241;43m0\u001b[39;49m\u001b[43m)\u001b[49m\u001b[38;5;241m.\u001b[39mcpu()\u001b[38;5;241m.\u001b[39mnumpy() \u001b[38;5;28;01mfor\u001b[39;00m k, v \u001b[38;5;129;01min\u001b[39;00m \u001b[38;5;28mself\u001b[39m\u001b[38;5;241m.\u001b[39mstats\u001b[38;5;241m.\u001b[39mitems()}  \u001b[38;5;66;03m# to numpy\u001b[39;00m\n\u001b[1;32m    182\u001b[0m     \u001b[38;5;28mself\u001b[39m\u001b[38;5;241m.\u001b[39mnt_per_class \u001b[38;5;241m=\u001b[39m np\u001b[38;5;241m.\u001b[39mbincount(stats[\u001b[38;5;124m\"\u001b[39m\u001b[38;5;124mtarget_cls\u001b[39m\u001b[38;5;124m\"\u001b[39m]\u001b[38;5;241m.\u001b[39mastype(\u001b[38;5;28mint\u001b[39m), minlength\u001b[38;5;241m=\u001b[39m\u001b[38;5;28mself\u001b[39m\u001b[38;5;241m.\u001b[39mnc)\n\u001b[1;32m    183\u001b[0m     \u001b[38;5;28mself\u001b[39m\u001b[38;5;241m.\u001b[39mnt_per_image \u001b[38;5;241m=\u001b[39m np\u001b[38;5;241m.\u001b[39mbincount(stats[\u001b[38;5;124m\"\u001b[39m\u001b[38;5;124mtarget_img\u001b[39m\u001b[38;5;124m\"\u001b[39m]\u001b[38;5;241m.\u001b[39mastype(\u001b[38;5;28mint\u001b[39m), minlength\u001b[38;5;241m=\u001b[39m\u001b[38;5;28mself\u001b[39m\u001b[38;5;241m.\u001b[39mnc)\n",
      "\u001b[0;31mRuntimeError\u001b[0m: torch.cat(): expected a non-empty list of Tensors"
     ]
    }
   ],
   "source": [
    "results = {}\n",
    "\n",
    "# Define your additional arguments here\n",
    "\n",
    "model=YOLO(\"models/yolo11x_trained_pruned_local_structured_50_channel.pt\")\n",
    "\n",
    " \n",
    "\n",
    "for k in range(5):\n",
    "    k+=1\n",
    "    dataset_yaml = f\"../kfold_datasets/2025-01-31_5-Fold_Cross-val/split_{k}/split_{k}_dataset.yaml\"\n",
    "    train_results = model.train(\n",
    "        data = dataset_yaml,\n",
    "        epochs=100,\n",
    "        project=\"../lottery_ticket_iterative_pruning/1stround\",\n",
    "        name=f\"split_{k}_train\",\n",
    "        plots=True,\n",
    "        imgsz=640,\n",
    "        lr0=0.001,   # default lr is 0.01\n",
    "        batch=2,  # Small batch size\n",
    "        device=[7],  # GPU\n",
    "        workers=4  # Minimal number of workers\n",
    "    )\n",
    "    results[k] = model.metrics  # save output metrics for further analysis"
   ]
  }
 ],
 "metadata": {
  "kernelspec": {
   "display_name": "Python",
   "language": "python",
   "name": "python3"
  },
  "language_info": {
   "codemirror_mode": {
    "name": "ipython",
    "version": 3
   },
   "file_extension": ".py",
   "mimetype": "text/x-python",
   "name": "python",
   "nbconvert_exporter": "python",
   "pygments_lexer": "ipython3",
   "version": "3.8.10"
  }
 },
 "nbformat": 4,
 "nbformat_minor": 5
}
